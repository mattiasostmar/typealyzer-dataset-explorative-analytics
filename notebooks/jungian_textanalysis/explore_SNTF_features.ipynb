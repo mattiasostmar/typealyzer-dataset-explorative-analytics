{
 "cells": [
  {
   "cell_type": "code",
   "execution_count": 11,
   "metadata": {
    "collapsed": true
   },
   "outputs": [],
   "source": [
    "import pandas as pd\n",
    "from gensim import corpora, models, similarities\n",
    "from collections import Counter"
   ]
  },
  {
   "cell_type": "code",
   "execution_count": 50,
   "metadata": {
    "collapsed": true
   },
   "outputs": [],
   "source": [
    "df = pd.read_pickle(\"../../pickles/dataframe_survey_2018-01-23_jung-liwc-enriched.pickle\")\n",
    "df = df[[\"text\",\"func\"]]"
   ]
  },
  {
   "cell_type": "code",
   "execution_count": 8,
   "metadata": {
    "collapsed": false
   },
   "outputs": [
    {
     "data": {
      "text/html": [
       "<div>\n",
       "<style scoped>\n",
       "    .dataframe tbody tr th:only-of-type {\n",
       "        vertical-align: middle;\n",
       "    }\n",
       "\n",
       "    .dataframe tbody tr th {\n",
       "        vertical-align: top;\n",
       "    }\n",
       "\n",
       "    .dataframe thead th {\n",
       "        text-align: right;\n",
       "    }\n",
       "</style>\n",
       "<table border=\"1\" class=\"dataframe\">\n",
       "  <thead>\n",
       "    <tr style=\"text-align: right;\">\n",
       "      <th></th>\n",
       "      <th>text</th>\n",
       "      <th>func</th>\n",
       "    </tr>\n",
       "  </thead>\n",
       "  <tbody>\n",
       "    <tr>\n",
       "      <th>0</th>\n",
       "      <td>Jon Kågström playchilla.com uclassify.com abou...</td>\n",
       "      <td>n</td>\n",
       "    </tr>\n",
       "    <tr>\n",
       "      <th>1</th>\n",
       "      <td>❀*a drop of colour*❀ 1/39 next→ home ask past ...</td>\n",
       "      <td>n</td>\n",
       "    </tr>\n",
       "    <tr>\n",
       "      <th>2</th>\n",
       "      <td>Neko cool kids can't die home family daveblog ...</td>\n",
       "      <td>f</td>\n",
       "    </tr>\n",
       "  </tbody>\n",
       "</table>\n",
       "</div>"
      ],
      "text/plain": [
       "                                                text func\n",
       "0  Jon Kågström playchilla.com uclassify.com abou...    n\n",
       "1  ❀*a drop of colour*❀ 1/39 next→ home ask past ...    n\n",
       "2  Neko cool kids can't die home family daveblog ...    f"
      ]
     },
     "execution_count": 8,
     "metadata": {},
     "output_type": "execute_result"
    }
   ],
   "source": [
    "df.head(3)"
   ]
  },
  {
   "cell_type": "markdown",
   "metadata": {
    "collapsed": false
   },
   "source": [
    "# Prepare Gensim model"
   ]
  },
  {
   "cell_type": "code",
   "execution_count": 10,
   "metadata": {
    "collapsed": false
   },
   "outputs": [],
   "source": [
    "# Create dictionary, no stopwords\n",
    "texts = [[word for word in document.lower().split()]\n",
    "          for ix, document in df.text.iteritems()]"
   ]
  },
  {
   "cell_type": "code",
   "execution_count": 14,
   "metadata": {
    "collapsed": false
   },
   "outputs": [
    {
     "data": {
      "text/plain": [
       "['❀*a', 'drop', 'of', 'colour*❀']"
      ]
     },
     "execution_count": 14,
     "metadata": {},
     "output_type": "execute_result"
    }
   ],
   "source": [
    "texts[1][:4]"
   ]
  },
  {
   "cell_type": "code",
   "execution_count": 15,
   "metadata": {
    "collapsed": false
   },
   "outputs": [
    {
     "data": {
      "text/plain": [
       "27959"
      ]
     },
     "execution_count": 15,
     "metadata": {},
     "output_type": "execute_result"
    }
   ],
   "source": [
    "len(texts)"
   ]
  },
  {
   "cell_type": "code",
   "execution_count": 16,
   "metadata": {
    "collapsed": true
   },
   "outputs": [],
   "source": [
    "# remove words that appear only once\n",
    "freq = Counter()\n",
    "for text in texts:\n",
    "        for token in text:\n",
    "             freq[token] += 1"
   ]
  },
  {
   "cell_type": "code",
   "execution_count": 19,
   "metadata": {
    "collapsed": false
   },
   "outputs": [],
   "source": [
    "texts = [[token for token in text if freq[token] > 1] for text in texts]"
   ]
  },
  {
   "cell_type": "code",
   "execution_count": 46,
   "metadata": {
    "collapsed": false
   },
   "outputs": [
    {
     "ename": "TypeError",
     "evalue": "'dict' object is not callable",
     "output_type": "error",
     "traceback": [
      "\u001b[0;31m---------------------------------------------------------------------------\u001b[0m",
      "\u001b[0;31mTypeError\u001b[0m                                 Traceback (most recent call last)",
      "\u001b[0;32m<ipython-input-46-272e6a638081>\u001b[0m in \u001b[0;36m<module>\u001b[0;34m()\u001b[0m\n\u001b[1;32m      2\u001b[0m \u001b[0mdictionary\u001b[0m \u001b[0;34m=\u001b[0m \u001b[0mcorpora\u001b[0m\u001b[0;34m.\u001b[0m\u001b[0mDictionary\u001b[0m\u001b[0;34m(\u001b[0m\u001b[0mtexts\u001b[0m\u001b[0;34m)\u001b[0m\u001b[0;34m\u001b[0m\u001b[0m\n\u001b[1;32m      3\u001b[0m \u001b[0mdictionary\u001b[0m\u001b[0;34m.\u001b[0m\u001b[0msave\u001b[0m\u001b[0;34m(\u001b[0m\u001b[0;34m'../../data/processed/typealyzer.dict'\u001b[0m\u001b[0;34m)\u001b[0m \u001b[0;31m# store the dictionary, for future reference\u001b[0m\u001b[0;34m\u001b[0m\u001b[0m\n\u001b[0;32m----> 4\u001b[0;31m \u001b[0mprint\u001b[0m\u001b[0;34m(\u001b[0m\u001b[0mdictionary\u001b[0m\u001b[0;34m.\u001b[0m\u001b[0mtoken2id\u001b[0m\u001b[0;34m(\u001b[0m\u001b[0;34m\"sleep\"\u001b[0m\u001b[0;34m)\u001b[0m\u001b[0;34m)\u001b[0m\u001b[0;34m\u001b[0m\u001b[0m\n\u001b[0m",
      "\u001b[0;31mTypeError\u001b[0m: 'dict' object is not callable"
     ]
    }
   ],
   "source": [
    "# Create Gensim dictionary\n",
    "dictionary = corpora.Dictionary(texts)\n",
    "dictionary.save('../../data/processed/typealyzer.dict') # store the dictionary, for future reference\n",
    "print(dictionary.token2id(\"sleep\"))"
   ]
  },
  {
   "cell_type": "code",
   "execution_count": 21,
   "metadata": {
    "collapsed": true
   },
   "outputs": [],
   "source": [
    "corpus = [dictionary.doc2bow(text) for text in texts]"
   ]
  },
  {
   "cell_type": "code",
   "execution_count": 22,
   "metadata": {
    "collapsed": true
   },
   "outputs": [],
   "source": [
    "# TF-IDF model\n",
    "tfidf = models.TfidfModel(corpus)"
   ]
  },
  {
   "cell_type": "code",
   "execution_count": 51,
   "metadata": {
    "collapsed": false
   },
   "outputs": [
    {
     "name": "stdout",
     "output_type": "stream",
     "text": [
      "Function n\n",
      "=========\n",
      "0    Jon Kågström playchilla.com uclassify.com abou...\n",
      "1    ❀*a drop of colour*❀ 1/39 next→ home ask past ...\n",
      "5    Perpetually In Transit Perpetually In Transit ...\n",
      "Name: text, dtype: object\n",
      "0    n\n",
      "1    n\n",
      "5    n\n",
      "Name: func, dtype: object\n",
      "['Jon', 'Kågström']\n",
      "#\n",
      "ago\n",
      "n\n",
      ",\n",
      "notes\n",
      "|\n",
      "2014\n",
      "/\n",
      "to\n",
      "the\n",
      "\n",
      "\n",
      "Function f\n",
      "=========\n",
      "2    Neko cool kids can't die home family daveblog ...\n",
      "4    Codeode Free Applications Privacy Mantra (Free...\n",
      "6    Moving on Moving on Chronicles of an Anglo/Spa...\n",
      "Name: text, dtype: object\n",
      "2    f\n",
      "4    f\n",
      "6    f\n",
      "Name: func, dtype: object\n",
      "['Neko', 'cool']\n",
      "#\n",
      "f\n",
      "ago\n",
      ",\n",
      "notes\n",
      "|\n",
      "2014\n",
      "/\n",
      "·\n",
      "-\n",
      "\n",
      "\n",
      "Function t\n",
      "=========\n",
      "3     Anything... Anything Mass Effect-related Music...\n",
      "12    Gerald M. Weinberg: Writer - Consultant OFFICI...\n",
      "13    Gerald M. Weinberg: Writer - Consultant OFFICI...\n",
      "Name: text, dtype: object\n",
      "3     t\n",
      "12    t\n",
      "13    t\n",
      "Name: func, dtype: object\n",
      "['Anything...', 'Anything']\n",
      "#\n",
      "ago\n",
      ",\n",
      "t\n",
      "notes\n",
      "|\n",
      "/\n",
      "2014\n",
      "-\n",
      "to\n",
      "\n",
      "\n",
      "Function s\n",
      "=========\n",
      "22    Oliver Brammer | I will blow your mind (but mo...\n",
      "23    Divine Logistics Divine Logistics Effective Mi...\n",
      "24    Renovate Your Estate Ready To Renovate YOUR Es...\n",
      "Name: text, dtype: object\n",
      "22    s\n",
      "23    s\n",
      "24    s\n",
      "Name: func, dtype: object\n",
      "['Oliver', 'Brammer']\n",
      "#\n",
      "ago\n",
      ",\n",
      "notes\n",
      "s\n",
      "/\n",
      "·\n",
      "-->\n",
      "|\n",
      "2014\n",
      "\n",
      "\n"
     ]
    },
    {
     "ename": "TypeError",
     "evalue": "Can't convert 'float' object to str implicitly",
     "output_type": "error",
     "traceback": [
      "\u001b[0;31m---------------------------------------------------------------------------\u001b[0m",
      "\u001b[0;31mTypeError\u001b[0m                                 Traceback (most recent call last)",
      "\u001b[0;32m<ipython-input-51-b241acfacd57>\u001b[0m in \u001b[0;36m<module>\u001b[0;34m()\u001b[0m\n\u001b[1;32m      1\u001b[0m \u001b[0;32mfor\u001b[0m \u001b[0mfunc\u001b[0m \u001b[0;32min\u001b[0m \u001b[0mdf\u001b[0m\u001b[0;34m.\u001b[0m\u001b[0mfunc\u001b[0m\u001b[0;34m.\u001b[0m\u001b[0munique\u001b[0m\u001b[0;34m(\u001b[0m\u001b[0;34m)\u001b[0m\u001b[0;34m:\u001b[0m\u001b[0;34m\u001b[0m\u001b[0m\n\u001b[0;32m----> 2\u001b[0;31m     \u001b[0mprint\u001b[0m\u001b[0;34m(\u001b[0m\u001b[0;34m\"Function \"\u001b[0m \u001b[0;34m+\u001b[0m \u001b[0mfunc\u001b[0m\u001b[0;34m)\u001b[0m\u001b[0;34m\u001b[0m\u001b[0m\n\u001b[0m\u001b[1;32m      3\u001b[0m     \u001b[0mprint\u001b[0m\u001b[0;34m(\u001b[0m\u001b[0;34m\"=========\"\u001b[0m\u001b[0;34m)\u001b[0m\u001b[0;34m\u001b[0m\u001b[0m\n\u001b[1;32m      4\u001b[0m \u001b[0;34m\u001b[0m\u001b[0m\n\u001b[1;32m      5\u001b[0m     \u001b[0mtextInputList\u001b[0m \u001b[0;34m=\u001b[0m \u001b[0;34m[\u001b[0m\u001b[0;34m]\u001b[0m\u001b[0;34m\u001b[0m\u001b[0m\n",
      "\u001b[0;31mTypeError\u001b[0m: Can't convert 'float' object to str implicitly"
     ]
    }
   ],
   "source": [
    "for func in df.func.unique():\n",
    "    print(\"Function \" + func)\n",
    "    print(\"=========\")\n",
    "    \n",
    "    textInputList = [] \n",
    "    for ix, series in df[df[\"func\"] == func].iteritems():\n",
    "        print(series.head(3))\n",
    "        for ix, text in series.iteritems():\n",
    "            for word in text.split():\n",
    "                textInputList.append(word)\n",
    "\n",
    "    print(textInputList[:2])\n",
    "    subset_tfidf = tfidf[dictionary.doc2bow(textInputList)]\n",
    "    # Top terms\n",
    "    topt = sorted(subset_tfidf, key=lambda x: x[1], reverse=True)[:10]\n",
    "    for i in topt:\n",
    "        print(dictionary[i[0]])\n",
    "    print('\\n')"
   ]
  },
  {
   "cell_type": "code",
   "execution_count": 57,
   "metadata": {
    "collapsed": false
   },
   "outputs": [
    {
     "name": "stdout",
     "output_type": "stream",
     "text": [
      "11359\n"
     ]
    }
   ],
   "source": [
    "for ix, text in df[df[\"func\"] == \"n\"].iteritems():\n",
    "    print(len(text.values))\n",
    "    break"
   ]
  },
  {
   "cell_type": "code",
   "execution_count": 33,
   "metadata": {
    "collapsed": false
   },
   "outputs": [
    {
     "data": {
      "text/plain": [
       "array([ \"Jon Kågström playchilla.com uclassify.com about / cv Jon Kågström Game developer, text classification and some climbing. Posts RSS Comments RSS 17 Posts and 32 Comments till now Building a chatbot I always wanted to create a chatbot, but I never got around to actually doing it since I wouldn’t want to write anything where I have to explicitly give it knowledge or manually feed it with language rules. Every time I’ve started to sketch – I kind of got stuck being unable to understand how to overcome this. Lately I had another urge (after watching Prometheus) so once again I started by sketching on paper trying to understand how to attack the problem. Then, after a few evenings I decided just to start coding. Remembering the proverb “programming is understanding”. First I started by looking on Wikipedia, using classifiers to give contexts etc, but it became clear that it would be beneficial to start by looking on the syntactic structures of language. So I instead of jumping into the semantics (which is what I really like to play with) I decided to take a step back and do some syntactic stuff first. I reformed my plan to what I’m working after today: 1) Parse a dictionary with tagged words and samples 2) Extract grammar rules from the samples (memory based model) 3) Create a random jabber bot using the grammar rules (syntactic correct nonsense) 4) Use the grammar rules to resolve sentence ambiguity 5) Make synonyms, antonyms and derived meanings part of the system (allows for better context understanding – you can also play the association game with the bot after this) (<=== this is what i'm working on at the moment) 6) Make it possible to add context stimuli to the jabber bot. For example talking to it about a tree, will make it jabber about forests etc. This will hopefully start to resemble about the hybrid in Battlestar Galactica. Even though it’s talking a lot of nonsense the “nonsense” is within a semantic context. “The five lights of the apocalypse rising struggling towards the light, the sins revealed only to those who enter the temple only to the chosen one.” 7) Add simple associative memories. (From here and on I am not sure how I will implement yet) 8) Train it on conversational transcripts (question-answer patterns etc) 9) Feed it with knowledge (from wikipedia) I will now shortly summarize what I’ve done so far: 1) Building a dictionary from Wiktionary So I downloaded Wiktionary (wiki – dictionary) instead and used the SAX parser to extract information about words and their classes. The cool thing about Wiktionary is that it’s constantly expanding, it has tons of words, their definitions, examples, synonyms, antonyms, attributes, phrases etc. The bad thing is that wiki pages are not built for machines but for humans. So parsing pages require some extra time. Anyhow I spent a day building the parser and tagging the common word classes (verbs, nouns, pronouns etc) extracting examples and such, so it wasn’t too bad. 2) Extracting grammar rules from Wiktionary As I mentioned earlier, most words comes with one example or more – my idea was to generate language rules from this. With a language rule i mean a syntactic correct series of word classes. For example, “the table is red”, the rules would be “article->noun->verb->adjective” then I would store this as a valid rule. Of course, since words have many meanings, classes and different origins (etymologies) it’s not that simple. Another possible rule extraction from “the table is red” would be “adverb->verb->verb->noun” since ‘the’ can be either an article or adverb, ‘table’ a noun or verb (to table something) and ‘red’ the describing color or the actual red color. This was a bit worrying at first, but after running the rule extraction on large amounts of data it turned out that I could extract a lot of unambiguous rule chains by using unambiguous words. In addition I disambiguated a couple of common words. For example “he” can be the personal pronoun or “The name of the fifth letter of many Semitic alphabets (Phoenician, Aramaic, Hebrew, Syriac, Arabic and others).” – removing the noun meaning exposes “he” phrases for rule extraction. By doing so on the articles, personal pronouns and the three most common verbs (be, have and do) I think it is good enough (some rules will be errornous but for this experiment I consider it some “noise”). I don’t strive for perfect. Here is an example of an extracted rule: Artificial [_start]=>Article [Definite]=>Noun [Countable]=>Verb [SingularFirstPerson, Past, Auxiliary, SingularThirdPerson]=>Article [Indefinite]=>Noun [Countable]=>Punctuation [Period]=> 3) Create a jabber bot This was easy – just randomize words following random rules. Rules can also be merged using those that maximize the overlap of each other. Here is the first words it said: “this has then gather next me” After fixing some bugs and and improving the rule extraction this is some of the things it randomly says now (including periods): “i have an hybrid orbital instead of the test bench…. they are cold turkey rascally ladings are each who semi-annually skidded…” “she meant me an efficacious oligomenorrhea. a solidarity does chemical castration hersirs. they wear me. she nitrogenized ironically.” “he was monotonous during his lyophilization.” “an twinning pigeon hole chihuahua” “inconsistency secondary hypothermia was an sunni gino-sho near the orecchiette , who was an alpha privative.” “the mustaches have an swallowtail, interjoin megawatts, wildly.” Just like anyone who is learning English the bot mixes up a/an and also some of the rule merges breaks the English. However, I’m not aiming to make a grammatically correct bot. I want to create something that can make sense in a semantic manner – therefore I’m not spending time on the nitty gritty details. 4) Sentence disambiguation When talking to the bot it needs to know what you mean, to know this sentences needs to be resolved to their meaning. As a first step in this I use the existing rule library to score the possible ambiguities. The scoring function matches each combination between the possible rules, where the amount of overlap is measured. For example “huge ants are wondering about life” is resolved with the highest score to: huge Adjective [] ants Noun [Plural, Countable] are Verb [PluralSecondPerson, PluralFirstPerson, PluralThirdPerson, Auxiliary, SingularSecondPerson] wondering Verb [PresentParticiples] about Preposition [] life Noun [Countable] All the attributes above (within the []) are automatically extracted from Wiktionary. Anyways, this method is not 100% and I think regular POS taggers (parse trees) might do better, but again, this is good enough for now. \\xa0 Hopefully I will take this project further. I would like to “upload” the bot (java) to a server so it can be tested by everyone while developing, but maintaining it will take time too.. Will see where to go from here. Jon :: Jun.30.2012 :: Uncategorized :: No Comments » --> Short update Not much happening on my personal blog, but here is a short update. For the last three years I’ve been working at king.com with game development, however now I’m switching to work at mojang instead, probably with minecraft. I’m really happy and psyched about this and looking forward to work with Markus, Jakob, Aron again as well as getting to know the rest of the crew. In case you missed minecraft: As for my other projects here is some stuff I’ve been working on lately: playchilla.com I’ve had most fun fiddling with some game development lately, nothing extraordinary I just do whatever comes to mind. You can check it out on playchilla.com where I blog a bit of what I’m doing, right now I’m putting together a tower defense game. uclassify.com Also I’ve been doing some work on uClassify, I have nearly finished implementing the keywords API that I’ve tested with this visualization . Whats left is to add it to the URL API and document it. Will try to do this in January 2012. Jon :: Dec.27.2011 :: Misc :: No Comments » --> Operation Kitchen Storm – Dr. Put’s Analysis and Final Conclusion Editorial notes: Yet another guest insight by Dr. Put that only took me 5 months to insert into this blog. Sorry about that, yours truly Dr. Pull. It’s only now – finally being able to relax, stretching out besides the main pool of my hazienda “Maria Dolores” in southern Tijuana- that I am able to put all the events of the past weeks into perspective. Changes Let me start by telling you a little story about two daoistic monks that were on their way to the highest situated monastery named Maoshan. Shortly before they reached the wooden gate, a flock of birds shat on their robes repeatedly changing the colour of the latter from orange to a yellowy white. While the disciple struggled, the master remained calm and smiled. And finally he answered the disciples asking look with the words: “It’s good to change”. Rest assured there might be some moral to that story. As per usual. In Dantes kitchen, where the pullability crew had been lost for almost two weeks, everything changed with the arrival of PM “The Nighttrain” Kågström. You know what they say about nighttrains: There is no stopping them and they always reach their goal. Oh, rest assured indeed! Looking back we accomplished more in those three days of joint effort than in the two weeks before. By only giving up a few unnecessary practices like “writing the blog”, “sleeping” and “eating”. Easy, so easy. And the face of the kitchen started to change…. PM “The Nighttrain” Kågström is now an honorary board member of PI Ltd. Distractions Any great men doing any great deed face constant distraction from different corners of temptation. And it takes a lot of resting assured and per usual-ing to resist them. Dr. Puts Achilles heel was Swedish women. One in particular. And as Hakan from the Ironshop says: “Building with a travelling mind is like riding a blind horse”. Luckily Hakans speciality is Newton and not horses. Or women. Or building for that matter. Dr. Pulls Achilles heel was Dr. Put being a useless, push-uppy, mindwandering snail. So, in order to focus Dr. Puts efforts, he treated PI Ltd’s number 1 to Swedish cinematic greatness: films like “Brüno” and “Year one” made ALL other options look like a Japanese Lotus graden. Even putting up tiles. Tiles “It’s down that road. I know it!”-“How?”-“Well, I have a feeling..” And suddenly you find yourself wandering the outskirts of Stockholm in blazing sunlight in search of the mighty “Kakelspecialist”. It sounds like an old man of great wisdom when all it really is is a shop full of toilets and tiles. But look at the way we were treated: Wearing our stinky builders outfit, that already proved advantageous in getting us some free seats in the T-bana, once again did the job. We were treated differently than the well-dressed Stockholmians. We were treated by the staff as one of them. Which was fun…until they started to use their crazy “builders lingo”. It was then that Dr. Pull showed his true greatness by saying: “We want to put up some tiles. Give us everything we need for that.” And it was also then that the store clerk realised he could sell us anything including useless, ugly-coloured buckets, sponges and tools that are still assessed by PI Ltd’s intelligence department for their function. For all the people that are using this blog as a guide to build their own kitchen (which is an estimated 36% of the world population), one more resting assured: Do NOT carry 3m2 of tiles. EVER. Take a taxi and the driver might just be a retired kitchen builder himself (no kidding!). Mosebacke “Where it all starts is where it all ends” is true in so many aspects of this Swedish adventure of Dr Put. With a tear in my eye and a rare selection of endangered animals on the grill, I shall close my platinum Mac Book Pro and go for a game of Polo against the Syrian Royalty. But I could not possibly leave you all without some final advice: It’s really in the surroundings! (as crap golf-players say) I don’t think Pullability Industries Ltd. could have done such a great job without the help of so many people: Specialists from Canada were flown in to inspect the work at different stages and used shark-metaphors in their advice. An ACTUAL true kitchen specialist sawed the crucial holes. In the sands of Thailand, Dr.Pull-Brother and his lovely girl (the two of them have a REAL kitchen. And a Jacuzzi! Why am I Dr. Pull’s friend again and not his brothers?) supported us. There was even people making us feel not-so-bad about being hungover (thanks Johanna!) but bad about our slackline skills (thanks Roger!) A martial artist who almost put half of PI Ltd. out of service. (the same half of PI Ltd. who got his ass kicked in armwrestling by a girl just minutes before). A hippie from Urkult who can’t keep track of his dates. A combustion engineer who had a hybrid taxi explained to him. The Nightrain and the wattenpass. And last but least: The Chief Designer! Without her, we would have been like taxidrivers with no onboard navigation. Like trains in the wrong tunnel. Like Joon and Phil. Thanks, Mia! Our hearts are beating like jungle drums. Curtain call May life write another chapter in our books of life. In Paris. I promise. Jon :: Dec.28.2009 :: Rebuild :: No Comments » --> Operation Kitchen Storm – Dr. Put´s Input If you have lived in Sweden your whole life, you might know about this. You might even rest assured. All the others shall tremble and shiver along with me when hearing about this. Swedish craftsmanship For lack of having proper colonies, the Swedish king (we have all seen his picture wearing a skirt!) has ordered all ceilings in the capital to be built like African bush-huts. Woven -bloody- grass is underneath the gips! One might ask oneself: how does a Swiss guy know what´s behind Swedish gipsputz? Could it be possible that he barely even looked at the ceiling and a huge chunk of the roof fell down smashing the floor next to him and -once the dust and debris had settled- revealing tribal hut construction underneath. Rest assured that yes, it is possible (see pictures underneath). When the area next to the hole was gently touched to be shown to the apartment owner, the hole (enjoying being in the spotlight) decided to spontaneously expand. Let´s hope that all people interested in ever buying this apartment have stopped reading this text a few lines back. But as much as they have holes in this country, they also have the best solutions to fix them: ”Husfix™”. A poisonous, irritating, lung-up-fucking material that can fix EVERYTHING. Even Newtons ”Law of Gravitation”. Rest assured that there is always a physicist at hand at your local ”iron shop”. Recovery One thing we enforce at PI Ltd. (Pullability Industrial Limited) is proper recovery of the workers on a site. There is several ways to ensure the human resource is at full charge: Coca Cola (a small, cute, fjun spin-off company of PI Ltd.) Recovery (available in different flavors) Trocadero a wide range of widely unhealthy food Impress with progress This 3-picture-collage shall show the progress we are making: Jon :: Aug.03.2009 :: Rebuild :: 2 Comments » --> Operation Kitchen Storm – day 2 After a good night of sleep, dreaming about destroying kitchen parts, we successfully woke up and reinitiated the kitchen rebuilding. As we are still in “Project Mayhem” most of our work will be of destructional nature. A glimpse into the past This blog series does not only serve as a practical guide for (for amaturs up to experts) of how to rebuild your own kitchen – it’s also educational. Therefore I will try to inject some interesting facts as we go along. The house itself, nicely situated on Hökens gata close to Mosebacke, was built in 1858, this was the year after the big fire on Södermalm that burnt down all houses (even the theatre). I think this also was the same decade our olden king Gustav Vasa liberated Sweden from some occuping forces. Considering how long ago this was (just look at the silly beard), it was to no surprise that the floor looked really bad as it was probably installed in the same epoch (cheap floors during wars). Then all the spilling of food on it for many decades has certainly left it in a very bad shape. So as we are doing this properly, rest assured that we are building a new floor. This is Gustav Vasa: And here is the olden floor: New floor made of cutted planks Luckily we found some planks laying around. Unluckely the planks didn’t fit on the floor so we had to cut them first. Cutting planks is really easy if you have the right tools & knowledge (gathered during project Hawkeye). In short, cutting a plank can be done in two ways, either by hand or by a cutting-machine. We got a cutting-machine to do the work for us as we didn’t want to get blisters in our hands. Look and learn: Risk assesments Rebuilding a kitchen can be dangerous if you don’t assess the risks properly as you go along. This is not only a part of “Project Hawk Eye” (see the mission plan above) but also an iterative process that you should take seriously throughout the operation. This is our system: Everytime we encountered a risk one the encountee loudly calls out for a risk assessment: “Risk assessment”. Then the other one carefully approaches the risk and we evaluate it together. One example of this is electricity. After taking safety precautions along our risk assessment we proceed. Here we can see how Philip is carefully detaching a on-off button, note the plastic handle on the screwdriver, the gloves and the face mask (spark protection) : *don’t try this yourself unless you really know what you are doing (feel free to ask us in the comments if you are unsure) Day 2 Summary We did a really good work today, cutting a floor and neutralizing risks, we have learn alot about electricity and wood cutting (easy peasy lemon squeezy). We are not sure what to do next, either we start to reroute the waterpipes or perhaps paint something (would be nice to start on “project Eden” as it’s probably even more fun). Rest assured that this journey of insight and knowledge will continue. Jon :: Jul.29.2009 :: Rebuild :: No Comments » --> Operation Kitchen Storm – Day 1 Today I will initiate a kitchen rebuilding project, starting\\xa0by\\xa0removing the current kitchen and then putting a new one in (also a kitchen). Todo this I’ve called upon an old friend from Switzerlands – namely – Philip. Planning is A and O (as we say in Sweden) Since\\xa0I have some prior building experience I know that planning is the most important part, understanding exactly what to remove and what to put in. Some people even use some advanced instruments (such as\\xa0 yardsticks )\\xa0to measure that new cobbars acctually fit, sometimes this is done in cm but some people use inches (I guess inches are used for greater distances, such as hospitals). But I don’t think those overly-complicated\\xa0tools are necessary for us, as we accually have building experience, also, I don’t think “the naked chef” uses a ruler every time he slices a bread. So what I did was a plan with some blueprints. Since I don’t have PowerPoint (which I understand that most architects use to draw rooms and even houses) I did it by hand on a board. This is me revealing the plan to Philip as he just arrived: And here is a close up of the actual plan (feel free to reuse it, I’ve put the plan\\xa0in the Public Domain) We divided it into three parts, project Hawk Eye, project Mayhem and project Eden, even though this may sound complicated it is very intiutivly once you get a hang of it. Rest assured that you will understand it when this blog series is over. Project Mayhem – day 1 Since I stretched a muscle in my back, Philip had to do all the heavy lifting, we can clearly see that here: And here: Rest assured that the oven was carried to the garbage room and that Phils back is ok. Here are some more pictures to inspire you to rebuild your home: This is what we managed to produce during day one: As you can see we cunningly left the sink with all the pipes going around, and I admit that the reason is that we don’t know what to do with all the water that is going to spray when we hammer them. But rest assured that we will deal with them in a future blog post once we have read the water pipe instructions on wikipedia. My guess is that we have a many towels (at least 10 big ones (not the small hand towels)) and a few buckets. So one of us manages the water collection into the buckets while the other reroute the pipes. But that is just a guess so don’t try that. Look on wikipedia first. Team picture of two true handymen: Jon :: Jul.28.2009 :: Rebuild :: 2 Comments » --> Mobil utan mobiltelefon? Det har sannerligen varit ett fantastiskt år med många välspelade tangentnedslag. Nu är det dock dags för semester ända till på Måndag och var är semestern bättre än i Zurich? Mikrofonen i telefonen har gått sönder men jag lyssnar gärna om någon vill prata. Kanske DTMF toner går att använda? Det har jag inte provat än. Om det fungerar så betyder ett pip JA och två NEJ. Att resa utan mobil innebär naturligvis rigorösa förberedelser – precis som på 90-talet. Lyckligtvis har Philip gett mig tydliga anvisningar att infinna mig på tågstationen och där uppsöka en telefonkiosk. Hans noggranna beskrivning, efter det jag placerat mig på lagom avstånd till en mynttelefon, fortsätter ”call this number: 044 265 09 24. The number has to be entered exactly and in the order portrayed.” Haha, han är briljant. Jon :: Nov.19.2008 :: Svenska :: No Comments » --> uclassify.com Tillsammans med Roger och Emil har vi precis fått klar en beta av en gratis webtjänst där man kan skapa egna textklassificerare, uclassify.com ! Kan blir riktigt häftigt Här en\\xa0site som användare tjänsten www.ofaust.com . Den klassificerar texter mot en massa författare. Då kan den nyfikna se vem man är mest lik i stilen! En av mina gamla poster (funkar bara på engelska) matchar närmast Nietzsche, men bara till 16%. admin :: Sep.30.2008 :: Svenska :: 1 Comment » --> Cooltrast & edith Lördag, filmkamera, mia, jon, koltrast, edith, “erik”, regn, balkong. Jon :: Jul.19.2008 :: Svenska :: No Comments » --> Quebec Eftersom denna veckans ordranson (ganska liten som norrlänning) börjar ta slut så\\xa0får bilderna tala (jag villl kunna kommunicera lite i helgen också). \\xa0Bilen. \\xa0Middagen. \\xa0Ölen. \\xa0Jon. \\xa0Emil. \\xa0Grabbarna. \\xa0Hänget. admin :: Sep.13.2007 :: Svenska :: No Comments » --> Next Page » Pages playchilla.com uclassify.com about / cv Categories Coding Misc Rebuild Svenska Uncategorized Jon Kågström Copyright © 2012 All Rights Reserved WordPress Theme . \",\n",
       "       '❀*a drop of colour*❀ 1/39 next→ home ask past ❀*a drop of colour*❀ This is a blog. ★ about ★ writing ★ theme → 0 notes Reblog # personal 1 hour ago Aug 28, 2012 The pile 95% packed, 80% of which is not pictured. This is the car. → 1,396 notes Reblog # sherlock # elementary # thoughts 2 hours ago Aug 28, 2012 alisaczach : panasonicyouth : 100% perfection. I can’t believe I haven’t seen this until now. You don’t cross O-ren Ishi. I’m annoyed because it seems the writers of Elementary have made Watson out to be an accessory. Yes, Doyle did too, and so have countless reinterpreters. But what’s great about Mofftiss’ Watson is that he’s established as an equal through challenges to his association with Holmes, and on his own merit. Watson chooses to stay because he and Holmes complement one another, not because it’s his job. I want to see more of that. I also think it would be really awesome if she played Sherlock Holmes rather than Watson. I mean the Sherlock Holmes stories have retold dozens of times. So why not take it further with a deconstruction of contemporary attitudes on race, gender, and sexuality? (And when I say ‘deconstruct gender’ I don’t just mean [to quote the King of Bohemia on Irene Adler] “she has the face of the most beautiful of women, and the mind of the most resolute of men”.) Doyle gives us a Sherlock Holmes that is introverted, works masterfully and independently, requires much mental stimulation, is a talented violinist, has an estranged relationship with his family, and etcetera…there’s a lot of material, a lot of potential. Elementary , I’ll be watching you very closely. (Source: sweetmabelsyrup ) → 0 notes Reblog # personal 1 day ago Aug 27, 2012 nnnnnnnnnn Took a nap and yet I still have no energy. I guess I shouldn’t go back to sleep now, so… → 13,678 notes Reblog # benedict cumberbatch # eyes 1 day ago Aug 27, 2012 A gorgeous example of central heterochromia (Source: shewhomustnotbenamed ) → 3,730 notes Reblog # sherlock # doctor who 4 days ago Aug 24, 2012 (Source: thenerdslut ) → 27 notes Reblog # portishead # music 5 days ago Aug 23, 2012 【Roads】 ► by Portishead ► from Dummy [ Flash 9 is required to listen to audio.] Ohh, can’t anybody see We’ve got a war to fight Never found our way Regardless of what they say (Source: recoverymonday ) → 127 notes Reblog # food # green tea 5 days ago Aug 22, 2012 matcha-maccha : Green Tea Waffles along with green tea ice-cream and jelly! → 0 notes Reblog # personal 6 days ago Aug 21, 2012 semi-organized thoughts My sister left last Friday for college so I finally thought I could clean up around the house. But once again my parents undo my efforts by sorting out the trash-that-is-“not-trash”. The clutter drives me crazy. I feel like the woman in The Yellow Wallpaper. Need to make plans for the upcoming semester: schedule research hours, figure out how many credits to take, maybe fit a job in there. I’m still pissed off at the guy who accosted me after I beat him to a spot on line. There was a 10% chance that I would feel sorry, but when he opened his mouth among the first things he said was “go back to your own country”. I am bad at sounding angry (or emoting in general) but it really would’ve come in handy. Penn Station, you have not seen “crazy bitch”!me. “Amy!” “Rory!” “Amy!” “Rory!” I am midway through season 6. Tell me it gets better because currently they are my least favorite companions by far. Among other fan-things, I kind of want to write an essay about the portrayal of the state in Sherlock . (Yep, I’ve finally watched the last two episodes.) Police, the media, the roles of J/S/M, blogging, and the “sheeple”. If it all comes together in my head, I’ll write it. I’m too lazy to write this and I’ve figured out 70% of it. Most likely I’ll join Creative Writing this year to give my plot bunnies some well-deserved rest. → 1,329 notes Reblog 1 week ago Aug 21, 2012  ',\n",
       "       \"Perpetually In Transit Perpetually In Transit Reflections from a roving retirement Pages Home Monday, August 06, 2012 La Fête Communale I’m starting to think that the soft, mild, and at present damp air of Normandy may have an unexpected affect on the ageing British brain, or at least\\xa0 my \\xa0ageing British brain. To all outward appearances I think (hope?) that I appear to be functioning normally, but when it comes to sitting down in front of my precious new laptop and actually writing something coherent, my brain has been acting like a toddler in a tantrum, drumming its heels and yelling at the top of its voice “Can’t, won’t, don’t want to!” It’s not that nothing has been happening, though life here is usually enjoyably quiet and slow-moving. Nor is it that I haven’t had ideas for posts, or at least snatches of ideas, and even potential titles. It’s just that faced with that blank screen and conscious of the fact that I still find Windows 7 intimidating and sometimes yearn for my old desktop with its undemanding Windows XP, the combination of brain plus idea just hasn’t been gelling into a proper post. However I’ve now reached the point at which I\\xa0 must\\xa0 put fingers to keyboard and a post into Blogger or stay silent for another week at least, as tomorrow is the day when Grandson#3 arrives for a week’s holiday without his parents, and normal life will be put on hold until he goes home again. So to give you a glimpse of what I’ve been doing, other than mowing and pruning and generally working my socks off in the garden, here are a few snaps of the\\xa0 fête communale \\xa0\\xa0which our little commune holds on the last Sunday in July every year. DH and I always go, rain or shine, and after the protracted mid-day meal, which gathers together more than half the inhabitants round long tables in the village hall for a couple of hours, we enjoy watching the inter-village games between our commune and a neighbouring one. Bowling uphill! It’s all very gentle and uncomplicated, with much the same games every year, but there is a definite friendly rivalry between the participants and a good time is had by all. As well as games for adults (usually\\xa0carried\\xa0out with great energy by the young farmers) there are games for the children, plus sideshows and even a bouncy castle. The weather is the most changeable factor and since this year it was very grey and distinctly damp, I’m taking the liberty of borrowing a few of the much brighter photos taken by my youngest sister when she and her husband visited us for the fête a couple of years ago. Yes, we do get sunshine in Normandy – just not quite as often as we might wish.\\xa0 J Bobbing for apples -\\xa0thank\\xa0goodness it was warm! Find the carrots in the hay..... Commando course for kids Why can't they have one of these for the\\xa0grown-ups? Posted by Perpetua at 21:44 56 comments: Email This BlogThis! Share to Twitter Share to Facebook Labels: events , France Friday, July 20, 2012 Summer at last \\xa0 \\xa0 \\xa0 \\xa0 \\xa0 \\xa0 \\xa0 \\xa0 \\xa0 \\xa0 \\xa0 \\xa0 \\xa0 \\xa0 \\xa0 \\xa0 \\xa0 \\xa0It makes such a difference when the sun shines.\\xa0 J Hungry cats (two of last year's kittens) Comfortably replete cats Washing Mowing Just enjoying the view Posted by Perpetua at 22:57 63 comments: Email This BlogThis! Share to Twitter Share to Facebook Labels: cats , France , housework , seasons Sunday, July 15, 2012 A little placeholder ….until my recalcitrant brain decides to function properly again and let me actually write a post. We once had a much-loved cat who behaved very much like this, though not with the same consequences, thank goodness. Back soon…. \\xa0\\xa0 P.S. Many thanks to\\xa0 Penny \\xa0who first introduced me to Simon’s Cat. Posted by Perpetua at 18:41 53 comments: Email This BlogThis! Share to Twitter Share to Facebook Labels: cats , comedy Wednesday, June 27, 2012 Postcard from Normandy Amazingly it’s already a week since we arrived in France and I simply don’t know where the time has gone. We have unpacked, cleaned, chased out spiders, bought groceries, dodged the rain and enjoyed a little sunshine and today I even managed to mow the first chunk of our big and overgrown garden.\\xa0 We have met up with friends, are enjoying having DH’s mother staying with us and have gradually relaxed after all the preparation and travelling. Occasionally I’ve fired up the laptop and caught up with a few blogs, but the days have gone by at dizzying speed and it’s only now I’ve found enough time and brain power simultaneously to sit down and write. So what is the state of play here in the far south of Normandy? Weather – mostly cool and damp, but starting to warm up a bit now. Summer may actually be on the point of appearing, so please don’t scare it away. Fruit – after a dreadful spring, there are very few cherries and hardly any other fruit to come. I pity the poor cider makers when autumn arrives. Flowers – the flower border doggedly dug last year by my indomitable mother-in-law has survived the winter and is responding well to my ministrations. Most importantly for me and the cat-lovers out there, three out of four of last year’s kittens have called in to say hello and we again have kittens in thewoodshed . J In fact two of last year’s litter appear to have adopted us and we rarely go out of doors without one or other coming to investigate what we’re up to. As I start to yawn and think longingly of my bed after all today’s mowing exercise, here are a few images of this year’s kittens, taken from a short video shot by DH through the bathroom window. Posted by Perpetua at 21:27 64 comments: Email This BlogThis! Share to Twitter Share to Facebook Labels: cats , family , France , my life , travelling Friday, June 15, 2012 Flying south Well, not actually flying, as DH resolutely refuses to set foot in a plane, and the very small campervan hasn’t yet sprouted wings. But we are in a last-minute maelstrom of preparation and packing, prior to heading a couple of hundred miles south to our little cottage in Normandy for the summer. \\xa0 First thing tomorrow we will head off, at a slow but stately pace, thanks to the weight that we’re asking the campervan to carry, to visit DS and family for the weekend. From there we will detour to the Cotswolds to pick up my darling mother-in-law, who is coming with us for the first two weeks, then head south to Portsmouth and the ferry to Caen . The weather forecast for our journey is almost unrelievedly miserable and it looks like we could be unpacking in the rain when we arrive late on Tuesday. After that we shall have to trust that the weather gods remember that it’s supposed to be June and summer and relent enough to send us some sunshine. In the meantime, this is likely to be our theme song. Thank goodness it’s one of my all-time favourites.\\xa0 J Posted by Perpetua at 09:55 61 comments: Email This BlogThis! Share to Twitter Share to Facebook Labels: family , France , music , travelling Older Posts Home Subscribe to: Posts (Atom) About Me Perpetua Former librarian and retired parish priest, now enjoying life with my dear husband (DH) in three different countries. Staying put in England to anchor us are Dear Son (DS) and Dear Daughter (DD), together with our three lovely grandsons. View my complete profile I write about Advent anniversaries art Assisi awards birthdays Blogger glitches bloggers blogging books cats Christmas church life comedy computers events faith family favourite places favourite things films food France friends gardening gifts hills history housework knitting ministry music my life nature pastimes Prague prayer Scotland seasons travelling trees Wales war Followers Follow by Email Blog Archive ▼\\xa0 2012 (48) ▼\\xa0 August (1) La Fête Communale ►\\xa0 July (2) ►\\xa0 June (3) ►\\xa0 May (6) ►\\xa0 April (10) ►\\xa0 March (10) ►\\xa0 February (8) ►\\xa0 January (8) ►\\xa0 2011 (60) ►\\xa0 December (9) ►\\xa0 November (9) ►\\xa0 October (4) ►\\xa0 September (1) ►\\xa0 August (2) ►\\xa0 July (6) ►\\xa0 June (2) ►\\xa0 May (4) ►\\xa0 April (9) ►\\xa0 March (8) ►\\xa0 February (6) Search This Blog Loading... Some blogs I enjoy Lifeonthecutoff's Blog All puffed up 5 hours ago The Vernacular Vicar The Dooza Diaries 6 hours ago HATTATT Sole Delight 6 hours ago Pearl, Why You Little... The Kitty Knows All, Tells Only Some 6 hours ago Moving on How do you blog...? 7 hours ago Friko's World Serendipity 13 hours ago Beaker Folk of Husborne Crawley Beheading of John the Baptist 14 hours ago Janice in Caunes Honestly.... 14 hours ago Yarn Harlot Downside 21 hours ago Bonnie's Thoughts & Jots A Poor Attempt ..... 21 hours ago Some Other Mountain Onslow Bank Steam Rally 2012 21 hours ago Daydreamer Arachnid update 1 day ago Life on a Small Island Stormy Monday.... 1 day ago A Rich Tapestry and now for something different... 1 day ago Where Five Valleys Meet Marrow Lemon Curd 1 day ago coming home to myself Wayman Publishing Blogfest Giveaway 1 day ago breathelighter That’s not a swarm of bees…Better update YOUR emergency supplies! 1 day ago knitsofacto Not according to plan 1 day ago Ayak's Turkish Delight A blog post I'd love you to read 1 day ago The Vendée Blog A Slightly Surprising Guest Recipe by Brigadier (Rtd) Sir Hillary Frothing-Knightly GCB KBE DSC MC DSO & Bar, President of the Loyal British Plain Speaking & Common Sense Association of France (Dordogne Branch) 2 days ago ABroad with a View Twelve Habits of Highly Successful Cats and Their Humans by Dulcy and Dee Ready 2 days ago blethers A child's-eye Eucharist 2 days ago Chez Charnizay Demons & Angels 3 days ago French Leave I never thought I'd say this, said a friend..... 4 days ago The Other Half (of being the curate's wife) Fun loving, sweet natured female would like to meet........ 5 days ago rough seas in the med How to shop and not drop 5 days ago Writing Home The swallows ... 5 days ago Views from the bike shed Paintings, jugs and an aversion to art bollocks 6 days ago Dancing Beastie Summer thunderstorm 1 week ago Ricky Yates A weekend in Brno 1 week ago Significant Truths 1 week ago The River Cottage Diaries She's in the A Team... 1 week ago Costa Rica Calling News from the Front 1 week ago a very grand pressigny A MIDWEEK PUZZLE 2 weeks ago Being Koy The (first) Ten Commandments for Building in Turkey (or any other country for that matter!) 2 weeks ago Nowhere-on-Thames There's a hole in... 3 weeks ago Rubye Jack Do you ever get scared? 3 weeks ago Ship of Fools Visitor Map Feedjit Live Blog Stats BlogCatalog Total Pageviews Simple template. Powered by Blogger . \",\n",
       "       ...,\n",
       "       \"https://www.tumblr.com/themes/by/leentheme http://www.leenthemes.com/ OOOO OOOOOOOOO OOOOOOOOO OOOOOOO OOOOO OOOO OOOOOOOO OOOOOOOO OOOOOOOO OOOOO OOOO OOO OOO OOOOOOOOO OOOOO OOOO OOOOOOOO OOOOOOOO OOOOO OOOO OOOOO OOOO OOOOOOO OOOOOOO OOOOO OOOOOOOOO OOOO OOO OOO OOOOO OOOOOOOO OOOOOOOOOO OOOOOOOO OOOOOOOO OOOOO OOOOOOO OOOOOOOOOOO OOOOOOOOO OOOOOOOOO OOOOO OOOOOO Version: 5.0 (March 06, 2015) By: Mesut Barazani --> Drifting at the Roche Limit Toggle navigation MENU Drifting at the Roche Limit - Astronomy, Aviation, and Avid Sarcasm - Search by tag Iceland under Full Moon from O Z Z O Photography on Vimeo . earthstory : Iceland by the light of the full Moon. Just watch this one, this is great. I literally can’t find anything better to say, just watch it. (Source: earthstory ) 22 Feb 2017 18 notes projecthabu : \\xa0 \\xa0 \\xa0Smithsonian’s National Air & Space Museum Udvar-Hazy Center in Chantilly, Virginia, offers the unique sight of a complete Mercury spacecraft. Many of these spacecraft are available for viewing all over the United States, but this one is special because it did not fly. \\xa0 \\xa0 \\xa0During the course of a Mercury flight, several parts of the spacecraft are jettisoned and not recovered, including the retro package. This piece of equipment is visible here in my photos as the striped metal object strapped to the bottom of the heat shield. This small cluster of solid rocket motors was responsible for the safe return of the astronaut from space, making just enough thrust to change the shape of the orbit so that it would meet the atmosphere and use aerobraking for a ballistic reentry. \\xa0 \\xa0 \\xa0If this package had not fired properly, the astronaut would be faced with the dire situation of being stuck in orbit. Fortunately, this never happened in real life, but it was captured in the fanciful novel “Marooned” by Martin Cardin, in which a NASA astronaut was stranded on orbit after his retro rockets failed. When the book was released in 1964, it was so influential that it actually changed procedures for Mercury’s follow on program Project Gemini, adding more redundancy to the spacecraft’s reentry flight profile. \\xa0 \\xa0 \\xa0Alan Shepard, the first American in space and later Apollo 14 moonwalker, didn’t fail to notice that there was a leftover spacecraft at the end of the Mercury program. He lobbied for a second Mercury flight in this ship, speaking personally to both NASA Administrator James Webb and President John Kennedy about this flight. He told them his idea of an “open ended” mission in which they would keep him in orbit indefinitely until there was a malfunction or consumables began to run out. Webb stated (and Kennedy agreed) that it was more important to shelve the Mercury spacecraft in order to jump start the more capable Gemini Program. Thus, we now have this whole Mercury on display for future generations to appreciate. (Source: projecthabu , via h2marchitectsandengineers ) 22 Feb 2017 728 notes Guilty or Innocent Tagged by @amazoniansiege \\u200b ^__^ Rules: You can only say guilty or innocent. You are not allowed to explain anything unless someone messages you or asks you. 1. Asked someone to marry you? Innocent 2. Kissed one of your friends? Innocent 3. Danced on a table in a bar or tavern? Innocent (lol just the thought is hilarious) 4. Ever told a lie? Guilty 5. Had feelings for someone whom you can’t have? Guilty 6. Ever kissed someone of the opposite sex? Innocent 7. Ever kissed someone of the same sex? Innocent 8. Kissed a picture? Innocent 9. Slept in until 5pm? Guilty (5pm? Amatuers…) 10. Fallen asleep at work or school? Guilty 11. Held a snake? Innocent 12. Been suspended from school? Innocent 13. Stolen something? Innocent\\xa0 14. Done something you regret? Guilty 15. Laughed until something you were drinking came out of your nose? Guilty 16. Caught a snowflake on your tongue? Guilty 17. Kissed in the rain? Innocent 18. Sat on a roof top? Innocent 19. Sang in the shower? Guilty (sorry neighbors) 20. Been pushed into a pool with all your clothes on? Innocent 21. Slept naked? Guilty 22. Made a boyfriend/girlfriend cry? Innocent 23. Been in a band? Guilty 24. Shot a gun? Innocent 25. Donated blood? Innocent 26. Eaten alligator meat? Innocent 27. Eaten cheesecake? Guilty 28. Still loved someone you shouldn’t? Innocent 29. Have/had a tattoo? Innocent 30. Been too honest? Guilty 31. Ruined a surprise? Guilty 32. Ate in a restaurant and got really bloated that you can’t walk after? Guilty 33. Erased someone in your friends list? Guilty 34. Dressed in a man’s clothes? Guilty 35. Dressed in a woman’s clothes? Guilty 36. Joined a pageant? Innocent? 37. Been told that you’re beautiful by someone who totally meant what they said? Innocent (yeah right lmao) 38. Still have communication with your ex? Innocent 39. Cheated on someone? Innocent 40. Got totally drunk one night when you had an important exam the next morning? Innocent 41. A total stranger treated you by paying your fare? Innocent 42. Got so angry that you cried? Guilty (I hate this, though) 43. Tried to stay away from someone for their own good? Guilty 44 . Actually murdered someone? Innocent 45. Thought about mass murder? Innocent 46. Actually committed a mass murder? Innocent 47. Rode in a stranger’s vehicle? Innocent 48. Stalked someone? Innocent 49. Had a girlfriend? Innocent 50. Had a boyfriend? Innocent 51. Totally drunk during a holiday? Innocent That wasn’t too bad, lol. Tagging: Any of you :D 22 Feb 2017 2 notes (Source: chronicallyamy , via chronicallyblogging ) #i've pretty much given up on socialization at this point in my lie 22 Feb 2017 580 notes sboutellie : gm_03401 CP Air, Schipol Airport, Amsterdam 1984 by CanadaGood on Flickr. (via sboutellie ) 22 Feb 2017 117 notes A post shared by Eduard Crispi (@educrispi) on Feb 13, 2017 at 12:42pm PST earthstory : Stream of northern lights dances over Lofoten Islands, Norway (Source: earthstory ) 22 Feb 2017 259 notes for-all-mankind : Three planets capable of supporting life found in nearby star system. Earlier today, (February 22, 2017), NASA announced the discovery of seven planets in the TRAPPIST-1 star system, 235 trillion miles,\\xa0or 40 light years, away\\xa0from Earth. Observations made by the infrared Spitzer space telescope have determined that all seven planets are rocky bodies roughly Earth’s size or smaller. Most significantly, however, was that three of the seven planets orbit within the star’s habitable zone, increasing the likelihood of liquid water and the correct conditions for life to develop. Since the system’s primary star is known as an ultra-cool dwarf, all seven planets could potentially hold liquid water on their surfaces, even though only three lie within the habitable zone. Further observations made by Spitzer have shown that all the planet’s orbit closer to their star than Mercury does to our sun, though the TRAPPIST-1 star is significantly smaller and cooler than our own. NASA stated that the planets are so close together that one would be able to discern surface features and weather patterns on the other planets from their neighbor’s surfaces. This marks the first time that an exoplanetary system has been discovered where three of the planets lie in their star’s habitable zone and are comprised of rock. Previous discoveries have been of planets both gaseous and rocky much larger than the ones announced today. Other exoplanets located within their respective system’s habitable zone The system is named after the telescope that first discovered it back in 2016, the Transiting Planets and Planetesimals Small Telescope in Chile. TRAPPIST discovered three planets in the system, in May, 2016, before Spitzer found four more. More information on the discovery can be read here via NASA. P/C: NASA 22 Feb 2017 180 notes tornadotitans : From Instagram: #Supercell #thunderstorm over open #Kansas wheat fields. May 21, 2016. #thunderstorms #storm #storms #stormchaser #stormy #weather #sky #clouds #nature #instagood #instaweather #natureza #natgeo #atmosphere #instaweather #instasky #igsky #skylovers #cloudstagram #sunset #wheat http://ift.tt/2lwpZ2g 22 Feb 2017 15 notes Blizzard New York City | Time-Stretch - In 6K from Tyler Fairbank on Vimeo . earthstory : Seems like the end of winter in the United States has already practically happened, with only a handful of major snowstorms hitting urban areas. This photographer took his camera outside in one of New York City’s snow events this year. (Source: earthstory ) 22 Feb 2017 29 notes earth-as-art : Finding Fires in Peru Before the rains arrived, Peru faced an intense fire season that lasted through 2016. Fires burned 6,594 acres (2,668 hectares) and encroached into 11 protected areas, according to an assessment by researchers with the Monitoring of the Andean Amazon Project (MAAP). Such estimates of the location and extent of areas burned are common in populous places with established monitoring networks. In remote areas, the details can be harder to tease out. That’s where satellites can help. But you still need someone to receive the data, analyze it, and make it available to fire resource managers. On November 20, 2016, the Visible Infrared Imaging Radiometer Suite (VIIRS) on the Suomi NPP satellite captured this image of fires in northern Peru, where there fire activity was particularly intense. Red outlines indicate hot spots where VIIRS detected warm surface temperatures associated with fires. Most of the fires are burning in relatively remote areas along the western branch of the Andes and near headwaters that feed the Amazon basin. Images like this one appear on the MAAP website, where project researchers publish detailed analyses of current events related to deforestation of the Andean Amazon, particularly in Peru. The MAAP team is first made aware of satellite-detected fire activity by email alerts distributed by the Fire Information for Resource Management System (FIRMS), a project developed with funding from NASA’s Applied Sciences Program . FIRMS distributes active fire data within three hours of the satellite overpass. After receiving the alerts, the MAAP team then combines the near real-time fire data from VIIRS with higher-resolution satellite imagery to get a more complete picture of the situation. “We are seeing that the VIIRS fire alerts are a very powerful tool for precisely monitoring fires in near real-time in the Andean Amazon,” said Matt Finer, research specialist with the Amazon Conservation Association and director of MAAP. The second image was acquired on November 20, 2016, by the Operational Land Image (OLI) on Landsat 8 and shows a dense cluster of fires near Pagaibamba Protected Forest. The image is false-color, combining shortwave infrared, near-infrared, and green light (OLI bands 7, 5, and 3). Active fires appear bright red, and intact vegetation is green. This band combination makes it easier to see burn scars, which appear dark brown. The third image shows an even more detailed view of Pagaibamba that day in natural color, similar to what your eyes would see, which on this day included plenty of smoke. The MAAP group noted that most of the fires likely started as agricultural burning, but because of ongoing drought, they grew out of control and spread into protected areas. Images like these can help researchers get precise estimates of the area burned, and to assess the severity and impact of the fires. The information could be useful for people deploying the resources to fight the fire and determining the areas that need help recovering. “We shared our findings with the Peruvian protected areas agency ( SERNANP ) and they were very interested in the methodology,” Finer said. “We have had numerous interactions with SERNANP about this topic and they are now actively developing fire management plans that will hopefully incorporate this technology.” References Mongabay (2017, January 17) ‘Out of control’ wildfires damage protected areas in northern Peru. Accessed February 9, 2017. Monitoring of the Andean Amazon Project (2017, January 31) MAAP #53: Wildfire Hotspots in the Peruvian Amazon in 2016. Accessed February 9, 2017. Monitoring of the Andean Amazon Project (2017, January 11) MAAP #52: Update: Fires Degrade 11 Protected Areas in Northern Peru. Accessed February 9, 2017. NASA Earth Observation Data (2017) Fire Information for Resource Management System (FIRMS) . NASA Earth Observatory images by Jesse Allen, using VIIRS data from the Suomi National Polar-orbiting Partnership provided by Jeff Schmaltz, LANCE/EOSDIS Rapid Response, and Landsat data from the U.S. Geological Survey. Caption by Kathryn Hansen. Instrument(s): Suomi NPP - VIIRSLandsat 8 - OLI 22 Feb 2017 10 notes A post shared by Henry Jun Wah Lee (@evosia) on Feb 13, 2017 at 9:50pm PST earthstory : Clouds stream over\\xa0Landmannalaugar, Iceland, as the sun sets (Source: earthstory ) 22 Feb 2017 550 notes starhasarrived : Zodiacal Light Vs. Milky Way\\xa0 Credit &\\xa0 Copyright : \\xa0 Daniel López ,\\xa0 IAC Source 22 Feb 2017 16 notes Largest Batch of Earth-size, Habitable Zone Planets nasa : Our Spitzer Space Telescope has revealed the first known system of seven Earth-size planets around a single star. Three of these planets are firmly located in an area called the habitable zone, where liquid water is most likely to exist on a rocky planet. This exoplanet system is called TRAPPIST-1, named for The Transiting Planets and Planetesimals Small Telescope (TRAPPIST) in Chile. In May 2016, researchers using TRAPPIST announced they had discovered three planets in the system. Assisted by several ground-based telescopes, Spitzer confirmed the existence of two of these planets and discovered five additional ones, increasing the number of known planets in the system to seven. This is the FIRST time three terrestrial planets have been found in the habitable zone of a star, and this is the FIRST time we have been able to measure both the masses and the radius for habitable zone Earth-sized planets. All of these seven planets could have liquid water, key to life as we know it, under the right atmospheric conditions, but the chances are highest with the three in the habitable zone. At about 40 light-years (235 trillion miles) from Earth, the system of planets is relatively close to us, in the constellation Aquarius. Because they are located outside of our solar system, these planets are scientifically known as exoplanets . To clarify, exoplanets are planets outside our solar system that orbit a sun-like star. In this animation, you can see the planets orbiting the star, with the green area representing the famous habitable zone, defined as the range of distance to the star for which an Earth-like planet is the most likely to harbor abundant liquid water on its surface. Planets e, f and g fall in the habitable zone of the star. Using Spitzer data, the team precisely measured the sizes of the seven planets and developed first estimates of the masses of six of them. The mass of the seventh and farthest exoplanet has not yet been estimated. For comparison…if our sun was the size of a basketball, the TRAPPIST-1 star would be the size of a golf ball. Based on their densities, all of the TRAPPIST-1 planets are likely to be rocky. Further observations will not only help determine whether they are rich in water, but also possibly reveal whether any could have liquid water on their surfaces. The sun at the center of this system is classified as an ultra-cool dwarf and is so cool that liquid water could survive on planets orbiting very close to it, closer than is possible on planets in our solar system. All seven of the TRAPPIST-1 planetary orbits are closer to their host star than Mercury is to our sun. \\xa0The planets also are very close to each other. How close? Well, if a person was standing on one of the planet’s surface, they could gaze up and potentially see geological features or clouds of neighboring worlds, which would sometimes appear larger than the moon in Earth’s sky. The planets may also be tidally-locked to their star, which means the same side of the planet is always facing the star, therefore each side is either perpetual day or night. This could mean they have weather patterns totally unlike those on Earth, such as strong wind blowing from the day side to the night side, and extreme temperature changes. Because most TRAPPIST-1 planets are likely to be rocky, and they are very close to one another, scientists view the Galilean moons of Jupiter – lo, Europa, Callisto, Ganymede – as good comparisons in our solar system. All of these moons are also tidally locked to Jupiter. The TRAPPIST-1 star is only slightly wider than Jupiter, yet much warmer.\\xa0 How Did the Spitzer Space Telescope Detect this System? Spitzer, an infrared telescope that trails Earth as it orbits the sun, was well-suited for studying TRAPPIST-1 because the star glows brightest in infrared light, whose wavelengths are longer than the eye can see. Spitzer is uniquely positioned in its orbit to observe enough crossing (aka transits) of the planets in front of the host star to reveal the complex architecture of the system.\\xa0 Every time a planet passes by, or transits, a star, it blocks out some light. Spitzer measured the dips in light and based on how big the dip, you can determine the size of the planet. The timing of the transits tells you how long it takes for the planet to orbit the star. The TRAPPIST-1 system provides one of the best opportunities in the next decade to study the atmospheres around Earth-size planets. Spitzer, Hubble and Kepler will help astronomers plan for follow-up studies using our upcoming James Webb Space Telescope , launching in 2018. With much greater sensitivity, Webb will be able to detect the chemical fingerprints of water, methane, oxygen, ozone and other components of a planet’s atmosphere. At 40 light-years away, humans won’t be visiting this system in person anytime soon…that said…this poster can help us imagine what it would be like:\\xa0 Make sure to follow us on Tumblr for your regular dose of space: http://nasa.tumblr.com 22 Feb 2017 18,775 notes A post shared by Henry Jun Wah Lee (@evosia) on Feb 16, 2017 at 3:50pm PST earthstory : Steaming stream in the Iceland Highlands (Source: earthstory ) 22 Feb 2017 155 notes A post shared by Malwina Paszkiewicz (@queenmalwina) on Feb 15, 2017 at 1:30pm PST earthstory : Arch, sandstone cliffs, and sea cliffs at Ponta da Piedade, Portugal’s Algarve coast (Source: earthstory ) 22 Feb 2017 561 notes 1 2 3 4 5 Next \",\n",
       "       \"∈ntropy Theme help X X BLOGGER WRITER ∈ntropy //there's miles of land in front of us //nobody knows his real name //just another attempt to make to the voices stop {TØP} ... Intj.Christian ... Hope you're all doing okay today-\\xa0 81 – 20th February Like Reblog Email Facebook Pin it Tweet Embed Permalink ... (Source: lock-screens , via feelthefearanddoitanyway-x ) 9932 – 17th February Like Reblog Email Facebook Tweet Embed Permalink ... heathxns : tyler playing ride acoustic for the first time ( x ) (via avoidthoseeyes ) 4100 – 17th February Like Reblog Email Facebook Tweet Embed Permalink ... Khaled Hosseini (via pillsandprayers ) (Source: wordsnquotes.com , via grace-after-the-fall ) I was like a patient who cannot tell the doctor where it hurts, only that it does. 33277 – 15th February Like Reblog Email Facebook Tweet Embed Permalink ... tinysongbird : i feel like i’m crawling in an endless dark i’m on black gravel and my bleeding palms pull me forward into the neon night. the air is heavy, there is nothing before me so i could curl up in the cracked earth or i could skid my skin across these crude rocks and i’m not sure i will survive and i’m not sure i want to - Ashley Dun 219 – 12th February Like Reblog Email Facebook Tweet Embed Permalink ... Isaiah 60:22 (via\\xa0 everlastingjesus \\xa0) Isaiah 60:22 NIV The least of you will become a thousand, the smallest a mighty nation. I am the Lord<semic> in its time I will do this swiftly.” (via pursuitofmore ) (via grace-after-the-fall ) When the time is right, I, the Lord, will make it happen. 2363 – 11th February Like Reblog Email Facebook Tweet Embed Permalink ... melisica : original by Dennis Baker (Source: melisica , via grudge ) 1756 – 11th February Like Reblog Email Facebook Pin it Tweet Embed Permalink ... (Source: bluemoon-stuff , via unshakablelove ) 5111 – 10th February Like Reblog Email Facebook Pin it Tweet Embed Permalink ... Julio Cortázar (via quotemadness ) (Source: quotemadness.com , via thehiddenmemoryuniverse ) If you fall, I’ll pick you up, if not, I will lay down with you. 2936 – 10th February Like Reblog Email Facebook Tweet Embed Permalink ... avoidthoseeyes : ive lived in this surreal nightmare for so long that nothing fazes me honestly the world could explode at this point and i wouldn’t be bothered 2 – 8th February Like Reblog Email Facebook Tweet Embed Permalink ... outerspacejosh : follow me instead twenty one pilots || march to the sea (in tyler’s handwriting) (via avoidthoseeyes ) 1359 – 26th January Like Reblog Email Facebook Pin it Tweet Embed Permalink ... (Source: d-y-s-t-i-c , via theoddman-out ) 1270 – 26th January Like Reblog Email Facebook Pin it Tweet Embed Permalink ... drawing when listening to friend’s ( @avoidthoseeyes ) angsty spotify playlists -\\xa0 @soulpoundswolfstalks (EF) 1 – 24th January Like Reblog Email Facebook Pin it Tweet Embed Permalink ... Victoria Aveyard (via quotemadness ) (Source: quotemadness.com , via thehiddenmemoryuniverse ) There is no greater pain or punishment than memory. 5833 – 24th January Like Reblog Email Facebook Tweet Embed Permalink ... Mark Rothko (via quotemadness ) (Source: quotemadness.com , via thehiddenmemoryuniverse ) Silence is so accurate. 2915 – 20th January Like Reblog Email Facebook Tweet Embed Permalink ... LOAD MORE 1 2 3 4 5 Next Copyright © 2016–2017 ∈ntropy Salvia Tumblr Theme by Themecloset.me Loading more posts \",\n",
       "       'scratch at sanity scratch at sanity Tags Send Me Things ask me things here im only a little crazy just-shower-thoughts : If Vision was to get his own movie, would it be released in 2020? 20 hours ago , 2,023 notes ( Source ) Via serzhantjamesbuchananbarnes askyourparentspermission : macbeth: Life’s but a walking shadow, a poor player That struts and frets his hour upon the stage And then is heard no more. It is a tale Told by an idiot, full of sound and fury, Signifying nothing. no fear shakespeare: Somebody once told me the world is gonna roll me I ain’t the sharpest tool in the shed 20 hours ago , 1,183 notes ( Source ) Via serzhantjamesbuchananbarnes 1 day ago , 161,933 notes ( Source ) Via cockyhorror 2 days ago , 547 notes ( Source ) Via mercury 2 days ago , 246,133 notes Via perks-of-being-chinese 2 days ago , 36,973 notes ( Source ) Via serzhantjamesbuchananbarnes tyridot : when ur chillin and then u hear ur owner is at the front door 3 days ago , 3,648 notes ( Source ) Via cloudthesamoyed 3 days ago , 244,747 notes ( Source ) Via timbllr 3 days ago , 16,817 notes Via sarahseeandersen 3 days ago , 137,114 notes ( Source ) Via breakup 3 days ago , 32 notes ( Source ) Via eomer this scene always leaves me dead inside nope lord of the rings 3 days ago , 211,494 notes ( Source ) Via kaliforhnia 3 days ago , 495,414 notes ( Source ) Via timbllr derpycats : I’m at university and missing my cats, so my mum sent me this beautiful picture of Jorgie 3 days ago , 312,240 notes ( Source ) Via alltimeloe Macduff: How is my family? Ross: Why, well. Lemony Snicket: Dramatic Irony: A term for when a person makes a remark and someone who hears it knows something that makes the remark have a different, usually unpleasant meaning. For example, if I were to say “I can’t wait to eat this almond cookie,” but there were people around who knew the cookie was poisoned, that would be dramatic irony. For that reason, when we hear Ross tell Macduff that his family is \"well,\" we should be on guard for the unpleasant arrival of dramatic irony. 5 days ago , 304 notes Via serzhantjamesbuchananbarnes exactly sir amen macbeth Page 1 of 253 Older scratch at sanity © 2015–2017 Basic by Cubthemes Support About Documentation Changelog Open Ticket Feedback Basic v1.1 ( check for updates ) Follow CubThemes on Tumblr and Twitter for the latest news, updates and releases. Close '], dtype=object)"
      ]
     },
     "execution_count": 33,
     "metadata": {},
     "output_type": "execute_result"
    }
   ],
   "source": [
    "s = df[df[\"func\"] == \"n\"]\n",
    "s.text.values"
   ]
  },
  {
   "cell_type": "code",
   "execution_count": 40,
   "metadata": {
    "collapsed": false
   },
   "outputs": [
    {
     "data": {
      "text/plain": [
       "array(['n', 'f', 't', 's', nan], dtype=object)"
      ]
     },
     "execution_count": 40,
     "metadata": {},
     "output_type": "execute_result"
    }
   ],
   "source": [
    "df.func.unique()"
   ]
  },
  {
   "cell_type": "code",
   "execution_count": null,
   "metadata": {
    "collapsed": true
   },
   "outputs": [],
   "source": []
  }
 ],
 "metadata": {
  "anaconda-cloud": {},
  "kernelspec": {
   "display_name": "Python [conda env:anaconda3]",
   "language": "python",
   "name": "conda-env-anaconda3-py"
  },
  "language_info": {
   "codemirror_mode": {
    "name": "ipython",
    "version": 3
   },
   "file_extension": ".py",
   "mimetype": "text/x-python",
   "name": "python",
   "nbconvert_exporter": "python",
   "pygments_lexer": "ipython3",
   "version": "3.5.2"
  }
 },
 "nbformat": 4,
 "nbformat_minor": 2
}
