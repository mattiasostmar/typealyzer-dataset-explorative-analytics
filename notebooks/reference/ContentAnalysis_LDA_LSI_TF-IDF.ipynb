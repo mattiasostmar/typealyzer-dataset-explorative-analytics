{
 "cells": [
  {
   "cell_type": "code",
   "execution_count": 167,
   "metadata": {
    "collapsed": true
   },
   "outputs": [],
   "source": [
    "from gensim import corpora, models, similarities\n",
    "import glob\n",
    "import os\n",
    "import logging\n",
    "logging.basicConfig(format='%(asctime)s : %(levelname)s : %(message)s', level=logging.INFO)"
   ]
  },
  {
   "cell_type": "markdown",
   "metadata": {},
   "source": [
    "Start by analyzing Q1. We have defined 20 \"important\" clusters there. Read the tweets for one of these."
   ]
  },
  {
   "cell_type": "code",
   "execution_count": 18,
   "metadata": {
    "collapsed": false
   },
   "outputs": [
    {
     "data": {
      "text/plain": [
       "['@stefana77 Hyfsat nära nya appar.\\n',\n",
       " '@Eko_Invest @gunthermarder @NordnetSE kan hjälpa dig. Kan ha med belåning att göra?\\n',\n",
       " '@joakimdal @gunthermarder Inom kort kommer nya appar.\\n',\n",
       " '@mpawlo @gunthermarder Kan du ge mig oddsen?\\n',\n",
       " '@gunthermarder Vilket spelbolag är först med att sätta odds? @NordicBetSV @unibet\\n']"
      ]
     },
     "execution_count": 18,
     "metadata": {},
     "output_type": "execute_result"
    }
   ],
   "source": [
    "userTweets = {}\n",
    "textPath = \"/Users/mikaelhuss1/Desktop/allt/twittercensus/q1\"\n",
    "textFiles = glob.glob(os.path.join(textPath, \"*.txt\"))\n",
    "for file in textFiles:\n",
    "    user = os.path.basename(file).split(\".\")[0]\n",
    "    userTweets[user]=open(file).readlines()\n",
    "userTweets.popitem()[1][:5]"
   ]
  },
  {
   "cell_type": "code",
   "execution_count": 26,
   "metadata": {
    "collapsed": false
   },
   "outputs": [
    {
     "data": {
      "text/plain": [
       "['Vingresor',\n",
       " 'pjotorboy',\n",
       " 'LasseNyberg',\n",
       " 'KatFilosoferar',\n",
       " 'beeccisen',\n",
       " 'flakieflake',\n",
       " 'LjungMarie',\n",
       " 'karinericson',\n",
       " 'Triss66',\n",
       " 'mariasj80',\n",
       " 'AnnetteJuslin',\n",
       " 'Fridajansson',\n",
       " 'NybergKatta',\n",
       " 'CSundnas',\n",
       " 'lalellish',\n",
       " 'Mitt_Universum',\n",
       " 'KatalinasMind',\n",
       " 'karolinagoth',\n",
       " 'emoyenne',\n",
       " 'henrikhansense',\n",
       " 'annebmathisen',\n",
       " 'NinaH80',\n",
       " 'TravelfunRG',\n",
       " 'swedenland',\n",
       " 'djurmo1967',\n",
       " 'Mailbutler',\n",
       " 'Lenazb',\n",
       " 'AlltomThailand',\n",
       " 'annasverige10',\n",
       " 'adamdansken',\n",
       " 'sretna71',\n",
       " 'dagenstraning',\n",
       " 'sodper',\n",
       " 'JonnySthlm',\n",
       " 'LailaRomu',\n",
       " 'kjaegerfalk',\n",
       " 'MHidnas',\n",
       " 'dabadoo_se',\n",
       " 'nettan_jo',\n",
       " 'paulinebdahl',\n",
       " 'JoakimEriksson9',\n",
       " 'sofiaalfredsson',\n",
       " 'richardbarr2424',\n",
       " 'Peabrainelin',\n",
       " 'Colle_86',\n",
       " 'ApPetersson']"
      ]
     },
     "execution_count": 26,
     "metadata": {},
     "output_type": "execute_result"
    }
   ],
   "source": [
    "clusterId = {} # dictionary for looking up cluster ID for user ID\n",
    "userId = {} # dictionary for looking up user IDs for a certain cluster ID\n",
    "clusterFile = \"/Users/mikaelhuss1/Desktop/allt/twittercensus/edges_q1_num_recip_unw.tree.names\"\n",
    "with open(clusterFile) as inFile:\n",
    "    for line in inFile:\n",
    "        [fullClusID, score, numIdStr, numId, uName] = line.strip().split()\n",
    "        twoLevelClusID = ':'.join(fullClusID.split(\":\")[:2])\n",
    "        clusterId[uName]=twoLevelClusID\n",
    "        if not twoLevelClusID in userId:\n",
    "            userId[twoLevelClusID] = [uName]\n",
    "        else:\n",
    "            userId[twoLevelClusID].append(uName)\n",
    "clusterId.popitem()\n",
    "userId['1:300']"
   ]
  },
  {
   "cell_type": "markdown",
   "metadata": {},
   "source": [
    "We could, at this point, try to figure our which are the largest clusters."
   ]
  },
  {
   "cell_type": "code",
   "execution_count": 31,
   "metadata": {
    "collapsed": true
   },
   "outputs": [],
   "source": [
    "clusBySize = sorted(userId.items(), key=lambda x: len(x[1]), reverse=True)"
   ]
  },
  {
   "cell_type": "code",
   "execution_count": 173,
   "metadata": {
    "collapsed": false
   },
   "outputs": [
    {
     "name": "stdout",
     "output_type": "stream",
     "text": [
      "['3:1', '5:1', '6:1', '1:2', '1:1']\n"
     ]
    }
   ],
   "source": [
    "biggestClusters = clusBySize[0:20]\n",
    "print ([clus[0] for clus in clusBySize[0:5]])"
   ]
  },
  {
   "cell_type": "markdown",
   "metadata": {},
   "source": [
    "Build a corpus for tweets from users in the 20 largest clusters."
   ]
  },
  {
   "cell_type": "code",
   "execution_count": 192,
   "metadata": {
    "collapsed": false
   },
   "outputs": [
    {
     "name": "stdout",
     "output_type": "stream",
     "text": [
      "1999\n"
     ]
    }
   ],
   "source": [
    "clusterTweets = []\n",
    "for clu in biggestClusters:\n",
    "    for user in userId[clu[0]]:\n",
    "        if user in userTweets:\n",
    "            string = ''\n",
    "            for word in userTweets[user]: string += word\n",
    "            clusterTweets.append(string)\n",
    "print(len(clusterTweets))"
   ]
  },
  {
   "cell_type": "code",
   "execution_count": 199,
   "metadata": {
    "collapsed": false
   },
   "outputs": [],
   "source": [
    "# from http://radimrehurek.com/gensim/tut1.html\n",
    "stoplist = set('och i att för med så är det på som jag rt inte om the den men vi ni du en har av till de man ett kan var ska'.split())\n",
    "texts = [[word for word in document.lower().split() if word not in stoplist]\n",
    "          for document in clusterTweets]"
   ]
  },
  {
   "cell_type": "code",
   "execution_count": 200,
   "metadata": {
    "collapsed": false
   },
   "outputs": [
    {
     "name": "stdout",
     "output_type": "stream",
     "text": [
      "['@pemyh', 'prøver', 'å', 'være', 'grei']\n"
     ]
    }
   ],
   "source": [
    "print(texts[0][:5])"
   ]
  },
  {
   "cell_type": "code",
   "execution_count": 201,
   "metadata": {
    "collapsed": false
   },
   "outputs": [],
   "source": [
    "# remove words that appear only once\n",
    "from collections import defaultdict\n",
    "frequency = defaultdict(int)\n",
    "for text in texts:\n",
    "        for token in text:\n",
    "             frequency[token] += 1\n",
    "\n",
    "texts = [[token for token in text if frequency[token] > 1] for text in texts]\n",
    "# remove twitter handles\n",
    "texts = [[token for token in text if token[0]!='@'] for text in texts]\n",
    "# remove URLs (?)"
   ]
  },
  {
   "cell_type": "code",
   "execution_count": 203,
   "metadata": {
    "collapsed": false
   },
   "outputs": [
    {
     "name": "stdout",
     "output_type": "stream",
     "text": [
      "['prøver', 'å', 'være', 'grei', \"ser'ru\"]\n"
     ]
    }
   ],
   "source": [
    "print(texts[0][:5])"
   ]
  },
  {
   "cell_type": "markdown",
   "metadata": {},
   "source": [
    "Convert to vector space representation (or something like that)"
   ]
  },
  {
   "cell_type": "code",
   "execution_count": 205,
   "metadata": {
    "collapsed": false
   },
   "outputs": [
    {
     "name": "stdout",
     "output_type": "stream",
     "text": [
      "Dictionary(1654019 unique tokens: ['felsägning', 'alarm-bells', 'http://t.co/tckuoydcdw', 'http://t.co/x4gaj2c03r', 'gjeesp!']...)\n"
     ]
    },
    {
     "ename": "AttributeError",
     "evalue": "'Dictionary' object has no attribute 'popitem'",
     "output_type": "error",
     "traceback": [
      "\u001b[0;31m---------------------------------------------------------------------------\u001b[0m",
      "\u001b[0;31mAttributeError\u001b[0m                            Traceback (most recent call last)",
      "\u001b[0;32m<ipython-input-205-197b9450029b>\u001b[0m in \u001b[0;36m<module>\u001b[0;34m()\u001b[0m\n\u001b[1;32m      2\u001b[0m \u001b[0mdictionary\u001b[0m\u001b[0;34m.\u001b[0m\u001b[0msave\u001b[0m\u001b[0;34m(\u001b[0m\u001b[0;34m'clus_1_2.dict'\u001b[0m\u001b[0;34m)\u001b[0m \u001b[0;31m# store the dictionary, for future reference\u001b[0m\u001b[0;34m\u001b[0m\u001b[0m\n\u001b[1;32m      3\u001b[0m \u001b[0mprint\u001b[0m\u001b[0;34m(\u001b[0m\u001b[0mdictionary\u001b[0m\u001b[0;34m)\u001b[0m\u001b[0;34m\u001b[0m\u001b[0m\n\u001b[0;32m----> 4\u001b[0;31m \u001b[0mdictionary\u001b[0m\u001b[0;34m.\u001b[0m\u001b[0mpopitem\u001b[0m\u001b[0;34m(\u001b[0m\u001b[0;34m)\u001b[0m\u001b[0;34m\u001b[0m\u001b[0m\n\u001b[0m",
      "\u001b[0;31mAttributeError\u001b[0m: 'Dictionary' object has no attribute 'popitem'"
     ]
    }
   ],
   "source": [
    "dictionary = corpora.Dictionary(texts)\n",
    "dictionary.save('clus_1_2.dict') # store the dictionary, for future reference\n",
    "print(dictionary)"
   ]
  },
  {
   "cell_type": "code",
   "execution_count": 206,
   "metadata": {
    "collapsed": false
   },
   "outputs": [],
   "source": [
    "corpus = [dictionary.doc2bow(text) for text in texts]"
   ]
  },
  {
   "cell_type": "code",
   "execution_count": 184,
   "metadata": {
    "collapsed": false
   },
   "outputs": [
    {
     "name": "stdout",
     "output_type": "stream",
     "text": [
      "Elapsed time 166.2101309299469\n"
     ]
    }
   ],
   "source": [
    "import time\n",
    "# Latent semantic indexing\n",
    "start = time.time()\n",
    "lsi = models.lsimodel.LsiModel(corpus=corpus, id2word=dictionary, num_topics=40)\n",
    "elapsed = time.time() - start\n",
    "print(\"Elapsed time\", elapsed)"
   ]
  },
  {
   "cell_type": "code",
   "execution_count": 185,
   "metadata": {
    "collapsed": false
   },
   "outputs": [
    {
     "name": "stdout",
     "output_type": "stream",
     "text": [
      "[(0.5293467758035818, 'er'), (0.35538679526645728, 'jeg'), (0.31877828004754322, 'og'), (0.25474871589709769, 'at'), (0.25165526123770332, 'ikke'), (0.20650374334205807, 'for'), (0.20403147299768642, 'til'), (0.14435305909286361, 'å'), (0.11310836374981792, '-'), (0.10445684277767275, 'der')]\n",
      "[(-0.21472843999407012, 'er'), (0.17310530158226667, 'när'), (0.17218650248011136, 'nu'), (-0.17019050208128611, 'jeg'), (0.16598077646049675, 'vad'), (0.1596662850624633, 'in'), (0.15411658243791093, 'ju'), (0.149686061049179, '#svpol'), (-0.14306047462720586, 'og'), (0.14111238447792435, '-')]\n",
      "[(0.40012016385637289, 'to'), (0.28865357391691138, 'in'), (0.2837909946343114, 'of'), (0.2733140022400104, 'a'), (0.22265942268292099, 'on'), (0.21540865712649299, 'and'), (0.19259783456109972, 'is'), (0.18633877681562991, 'you'), (0.15539267775216745, 'for'), (-0.10557472976006232, ':)')]\n",
      "[(0.84439099742407042, '#svpol'), (-0.15068187084983975, ':)'), (-0.11302436807726986, 'mig'), (0.10904972294269313, '-'), (0.10395242872998607, 'sverige'), (-0.097984204982561024, 'you'), (-0.094002006221631573, '@thefooomusic'), (-0.092785351486560988, 'min'), (-0.089113365328036584, 'tack'), (0.088796567897376361, 'mot')]\n",
      "[(-0.55901201247524257, 'å'), (0.28253834346222167, 'der'), (0.23236576994502472, 'at'), (0.21522431980005713, 'af'), (0.19534526703910474, 'jeg'), (-0.15456530861680864, 'og'), (-0.13331663221055937, 'meg'), (-0.1318142563485746, 'for'), (0.11645576029911547, 'lige'), (0.11399948629191085, ':)')]\n",
      "[(-0.35541404835553964, ':)'), (-0.30925362218989699, '-'), (0.28000022252782608, '@thefooomusic'), (0.20714608597712608, 'you'), (0.20582837053002973, '#svpol'), (-0.19438459293226035, 'on'), (0.17375742105142714, 'follow'), (0.15545262960057987, '@ogmolander'), (-0.15052680953215114, 'ja'), (0.14770520245925395, 'me')]\n",
      "[(-0.43508256494443853, ':)'), (-0.42024236768731238, 'ja'), (-0.28200574166868486, '#svpol'), (-0.24982176904473918, 'on'), (0.24613944792535949, '-'), (-0.18910553261838256, 'ei'), (-0.14976083389105707, 'se'), (-0.11803822392144722, '@thefooomusic'), (-0.11249017902353271, ';)'), (-0.10251546248599948, 'että')]\n",
      "[(0.37266938599613947, 'jeg'), (-0.26689541641805603, '—'), (-0.26067671367952067, 'til'), (-0.24579048407796852, 'ny'), (-0.24002758676873126, '?'), (-0.23928175109649771, 'bruge'), (-0.23903380936799132, 'twitter'), (-0.23793115418220664, 'hej,'), (-0.23749488776844691, 'twitterguide'), (-0.23622125376667016, 'måske')]\n",
      "[(0.61613778445812839, ':)'), (-0.39237258219559851, 'ja'), (-0.30112020837815157, 'on'), (-0.24860368391997451, '-'), (-0.21464527412760659, 'ei'), (0.13159249615313712, ';)'), (-0.11548523162455632, 'että'), (0.10955280465544759, 'to'), (0.1040250032811597, '#svpol'), (0.09777021491258614, 'a')]\n",
      "[(-0.60385704385772254, '-'), (0.33498753332250653, 'jeg'), (-0.2126742004748173, '@thefooomusic'), (-0.19345639675093954, ':)'), (-0.18719415434640399, 'tack'), (-0.15168903287673943, 'follow'), (-0.14326891128602084, 'og'), (0.12469151241010207, 'of'), (-0.12085278936729515, '@ogmolander'), (0.11140620690695262, 'in')]\n"
     ]
    }
   ],
   "source": [
    "for i in range(0,10):\n",
    "    print(lsi.show_topic(i, topn=10))"
   ]
  },
  {
   "cell_type": "code",
   "execution_count": 238,
   "metadata": {
    "collapsed": false
   },
   "outputs": [
    {
     "name": "stdout",
     "output_type": "stream",
     "text": [
      "Elapsed time 166.2101309299469 s on  1999  documents\n"
     ]
    }
   ],
   "source": [
    "# Latent Dirichlet Allocation\n",
    "start = time.time()\n",
    "lda = models.ldamodel.LdaModel(corpus=corpus, id2word=dictionary, num_topics=10, update_every=1, chunksize=100, passes=100)\n",
    "print(\"Elapsed time\", time.time()-start, \"s on \", len(corpus), \" documents\")"
   ]
  },
  {
   "cell_type": "raw",
   "metadata": {},
   "source": [
    "for i in range(0,10):\n",
    "    print(lda.show_topic(i, topn=10))"
   ]
  },
  {
   "cell_type": "code",
   "execution_count": 207,
   "metadata": {
    "collapsed": false
   },
   "outputs": [],
   "source": [
    "# TF-IDF model\n",
    "tfidf = models.TfidfModel(corpus)\n"
   ]
  },
  {
   "cell_type": "code",
   "execution_count": 237,
   "metadata": {
    "collapsed": false
   },
   "outputs": [
    {
     "name": "stdout",
     "output_type": "stream",
     "text": [
      "Cluster  3:1 ['CSpange', 'Grest', 'Doremus42', 'mariesimonsen', 'Kvalshaug']\n",
      "=========\n",
      "og\n",
      "jeg\n",
      "ikke\n",
      "til\n",
      "å\n",
      "skal\n",
      "meg\n",
      "litt\n",
      "hva\n",
      "fra\n",
      "\n",
      "\n",
      "Cluster  5:1 ['linusgulliksson', 'malinerson', 'linneaanonsen', 'wilmalindd', 'claudiakaninte']\n",
      "=========\n",
      "tack\n",
      "⠀\n",
      "grattis\n",
      "tackar\n",
      "😘\n",
      "jättemycket\n",
      "jävla\n",
      "mycket\n",
      "😍\n",
      "haha\n",
      "\n",
      "\n",
      "Cluster  6:1 ['MxGustafsson', 'Dennnnis123', 'Erikinspace', 'mollerpontus', 'bokkkeen']\n",
      "=========\n",
      "tack\n",
      "⠀\n",
      "grattis\n",
      "😘\n",
      "puss\n",
      "finaste\n",
      "❤️\n",
      "jättemycket\n",
      "hoppas\n",
      "❤️❤️\n",
      "\n",
      "\n",
      "Cluster  1:2 ['oisincantwell', 'Sakine', 'detljuvalivet', 'owenil', 'fvirtanen']\n",
      "=========\n",
      "#svpol\n",
      "#svtnyheter\n",
      "#fofrk\n",
      "regeringen\n",
      "debatt:\n",
      "#svt\n",
      "sd\n",
      "från\n",
      "tack!\n",
      "löfven\n",
      "\n",
      "\n",
      "Cluster  1:1 ['GrayMunthe', 'GustaveLund', 'wistikent', 'kastrullis', 'mymlan']\n",
      "=========\n",
      "ju\n",
      "när\n",
      "&gt;\n",
      ":)\n",
      "bara\n",
      "&lt;3\n",
      "vad\n",
      "här\n",
      "nåt\n",
      "vara\n",
      "\n",
      "\n",
      "Cluster  1:4 ['grishund', 'Anna_Kaya', 'braneback', 'jacobmollstam', 'HERO_Respondi']\n",
      "=========\n",
      "#skolchatt\n",
      "#linedu\n",
      "#skolan\n",
      "#afkrektor15\n",
      "elever\n",
      "#rektorschatt\n",
      "lärare\n",
      "eleverna\n",
      "#afkumeå\n",
      "#fskchatt\n",
      "\n",
      "\n",
      "Cluster  1:3 ['TommyFunebo', 'perraponken', 'RolandXSweden', 'Stassministern', 'fogelklou']\n",
      "=========\n",
      "#svpol\n",
      "#migpol\n",
      "islam\n",
      "sd\n",
      "#dinröst\n",
      "muslimer\n",
      "sverige\n",
      "o\n",
      "#dinroest\n",
      "muslimska\n",
      "\n",
      "\n",
      "Cluster  5:2 ['mathiassvard', 'Karljohanolsson', 'fredrikn10', 'AndreasMidell', 'PontusForss']\n",
      "=========\n",
      "#svbandy\n",
      "⠀\n",
      "#lbkplay\n",
      "hhc\n",
      "#hundralappen\n",
      "#lbk\n",
      "hudik\n",
      "ljusdal\n",
      "#huff\n",
      "jävla\n",
      "\n",
      "\n",
      "Cluster  3:2 ['RikkeSonne', 'hbladt', 'MThaastrup', 'UnsentDisturbed', 'MiaRoesen']\n",
      "=========\n",
      "jeg\n",
      "ikke\n",
      "og\n",
      "til\n",
      "der\n",
      "lige\n",
      "af\n",
      "skal\n",
      "også\n",
      "hvad\n",
      "\n",
      "\n",
      "Cluster  1:9 ['charlyjsp', 'PatrikGayer', 'STRATMIL', 'Calle_Haglund', 'MikkoLaaksonen1']\n",
      "=========\n",
      "ei\n",
      "että\n",
      "mutta\n",
      "jos\n",
      "niin\n",
      "oli\n",
      "kuin\n",
      "ole\n",
      "voi\n",
      "nyt\n",
      "\n",
      "\n",
      "Cluster  13:1 ['lamaadelrey', 'Flisaaaaaan', 'EdwinLazoAvila', 'SandhGabriel', 'AlvaStjernholm']\n",
      "=========\n",
      "⠀\n",
      "karlskrona\n",
      "när\n",
      "#floorball\n",
      "jävla\n",
      "khk\n",
      "#khk\n",
      "when\n",
      "haha\n",
      "tack\n",
      "\n",
      "\n",
      "Cluster  1:8 ['Kavastu', 'micke378', 'MadzTrader', 'LivetSomTrader', 'Grottan_Z']\n",
      "=========\n",
      "aktier\n",
      "börsen\n",
      "#aktier\n",
      "omx\n",
      "=)\n",
      "#tech\n",
      "bolag\n",
      "aktien\n",
      "#börsen\n",
      "dax\n",
      "\n",
      "\n",
      "Cluster  14:2 ['johannalseger', 'saaramatildaa', 'isaviklander', 'hannastenbergs', 'louiseclaessoon']\n",
      "=========\n",
      "⠀\n",
      "va\n",
      "jävla\n",
      "när\n",
      "hahaha\n",
      "haha\n",
      "#kibf\n",
      "#hundralappen\n",
      "jeg\n",
      "karlstad\n",
      "\n",
      "\n",
      "Cluster  3:3 ['Satanihalsen', 'justahusk0', 'hanneejensen', 'Celinet2302', 'DystertRomvesen']\n",
      "=========\n",
      "jeg\n",
      "ikke\n",
      "meg\n",
      "og\n",
      "til\n",
      "å\n",
      "bare\n",
      "skal\n",
      "deg\n",
      "noen\n",
      "\n",
      "\n",
      "Cluster  2:1 ['RickardCharles', 'HattenHelander', 'HugoZH', 'giffelpucko', 'felghen']\n",
      "=========\n",
      "skoändring:\n",
      "#v75\n",
      "lopp\n",
      "skor/skor)\n",
      "v75\n",
      "#v86\n",
      "häst\n",
      "atg\n",
      "barfota/barfota\n",
      ":-)\n",
      "\n",
      "\n",
      "Cluster  14:1 ['Kiwiallenn', 'celinelarsson', 'lovisaprintzlow', 'kklarawismar', 'jtagner']\n",
      "=========\n",
      "⠀\n",
      "jävla\n",
      "va\n",
      "haha\n",
      "hahah\n",
      "hahaha\n",
      "asså\n",
      "😍\n",
      "när\n",
      "hahahah\n",
      "\n",
      "\n",
      "Cluster  6:2 ['frida_borgstrom', 'eaag1', 'JenniferHedin', 'SaanddraB', 'MatildaDotzek']\n",
      "=========\n",
      "⠀\n",
      "🙏😊\n",
      "#hv71\n",
      "👍😀\n",
      "#21\n",
      "tack\n",
      "när\n",
      "asså\n",
      "❤️\n",
      "😍\n",
      "\n",
      "\n",
      "Cluster  1:5 ['missfunboard', 'Otadlig', 'NorthWiz', 'CamillaRagfors', 'filippanna']\n",
      "=========\n",
      "#macken\n",
      "macken:\n",
      ":-)\n",
      "o\n",
      ";)\n",
      ":)\n",
      "😊\n",
      "kram\n",
      "😉\n",
      "#carlos_wilde\n",
      "\n",
      "\n",
      "Cluster  7:1 ['thefooomusic', 'KaavitaaSingh', 'jw_miranda', 'linneaakessonn', 'KatiaMosally']\n",
      "=========\n",
      "follow\n",
      "#fooovalentine\n",
      "♡\n",
      "oscar\n",
      "felix\n",
      "please\n",
      "❤️\n",
      "#shotstonumberone\n",
      "shippar\n",
      "ogge\n",
      "\n",
      "\n",
      "Cluster  1:6 ['wisemanswisdoms', 'Cornubot', 'annikanc', 'patrikoksanen', 'oplatsen']\n",
      "=========\n",
      "#svfm\n",
      "#säkpol\n",
      "#fofrk\n",
      "russian\n",
      "#föpol\n",
      "#svpol\n",
      "ukraine\n",
      "ryssland\n",
      "#ukraine\n",
      "ryska\n",
      "\n",
      "\n"
     ]
    }
   ],
   "source": [
    "for clu in range(0,20):\n",
    "    print(\"Cluster \", biggestClusters[clu][0], biggestClusters[clu][1][:5])\n",
    "    print(\"=========\")\n",
    "    ixs = 100*clu\n",
    "    ixe = 100*(clu+1)\n",
    "    textInput = texts[ixs:ixe] \n",
    "    # Collapse to a single list\n",
    "    textInputList = []\n",
    "    for tweet in textInput:\n",
    "        for word in tweet:\n",
    "            textInputList.append(word)\n",
    "\n",
    "    subset_tfidf = tfidf[dictionary.doc2bow(textInputList)]\n",
    "    # Top terms\n",
    "    topt = sorted(subset_tfidf, key=lambda x: x[1], reverse=True)[:10]\n",
    "    # print(topt)\n",
    "    for i in topt:\n",
    "        print(dictionary[i[0]])\n",
    "    print('\\n')"
   ]
  },
  {
   "cell_type": "code",
   "execution_count": 227,
   "metadata": {
    "collapsed": false
   },
   "outputs": [
    {
     "name": "stdout",
     "output_type": "stream",
     "text": [
      "[(73069, 0.252195563117452), (324058, 0.1341668783860213), (314439, 0.11167933303863017), (294201, 0.09246280637290397), (61249, 0.090559135336672)]\n"
     ]
    }
   ],
   "source": []
  },
  {
   "cell_type": "code",
   "execution_count": 229,
   "metadata": {
    "collapsed": false,
    "scrolled": true
   },
   "outputs": [
    {
     "name": "stdout",
     "output_type": "stream",
     "text": [
      "#svpol\n",
      "#svtnyheter\n",
      "#fofrk\n",
      "regeringen\n",
      "debatt:\n"
     ]
    }
   ],
   "source": [
    "for i in topt:\n",
    "    print(dictionary[i[0]])"
   ]
  },
  {
   "cell_type": "code",
   "execution_count": null,
   "metadata": {
    "collapsed": true
   },
   "outputs": [],
   "source": []
  }
 ],
 "metadata": {
  "anaconda-cloud": {},
  "kernelspec": {
   "display_name": "Python [default]",
   "language": "python",
   "name": "python3"
  },
  "language_info": {
   "codemirror_mode": {
    "name": "ipython",
    "version": 3
   },
   "file_extension": ".py",
   "mimetype": "text/x-python",
   "name": "python",
   "nbconvert_exporter": "python",
   "pygments_lexer": "ipython3",
   "version": "3.5.2"
  }
 },
 "nbformat": 4,
 "nbformat_minor": 0
}
