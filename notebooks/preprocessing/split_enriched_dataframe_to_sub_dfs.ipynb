{
 "cells": [
  {
   "cell_type": "code",
   "execution_count": 5,
   "metadata": {
    "collapsed": true
   },
   "outputs": [],
   "source": [
    "import pandas as pd"
   ]
  },
  {
   "cell_type": "code",
   "execution_count": 6,
   "metadata": {
    "collapsed": true
   },
   "outputs": [],
   "source": [
    "df = pd.read_pickle(\"../pickles/dataframe_survey_2018-01-23_jung-liwc-dt-jung_dummies-enriched.pickle\")"
   ]
  },
  {
   "cell_type": "markdown",
   "metadata": {},
   "source": [
    "### Save version of DataFrame with text removed"
   ]
  },
  {
   "cell_type": "code",
   "execution_count": 7,
   "metadata": {
    "collapsed": false
   },
   "outputs": [
    {
     "data": {
      "text/plain": [
       "0    Jon Kågström playchilla.com uclassify.com abou...\n",
       "1    ❀*a drop of colour*❀ 1/39 next→ home ask past ...\n",
       "2    Neko cool kids can't die home family daveblog ...\n",
       "Name: text, dtype: object"
      ]
     },
     "execution_count": 7,
     "metadata": {},
     "output_type": "execute_result"
    }
   ],
   "source": [
    "df[\"text\"].head(3)"
   ]
  },
  {
   "cell_type": "code",
   "execution_count": null,
   "metadata": {
    "collapsed": true
   },
   "outputs": [],
   "source": [
    "no_text = df.drop(\"text\", axis=1)\n",
    "no_text.to_csv(\"../data/processed/survey_2018-01-23_jung-liwc-dt-jung_dummies-enriched_no-text.csv\", sep=\";\")"
   ]
  },
  {
   "cell_type": "markdown",
   "metadata": {},
   "source": [
    "### DataFrames with only LIWC"
   ]
  },
  {
   "cell_type": "code",
   "execution_count": 11,
   "metadata": {
    "collapsed": false
   },
   "outputs": [],
   "source": [
    "liwc1 = [\"funct\",\"ppron\",\"i\",\"you\",\"preps\",\"affect\",\"conj\",\"adverb\",\"negate\",\"cause\",\"cogmech\",\"ipron\"]\n",
    "liwc2 = [\"ingest\",\"percept\",\"incl\",\"body\",\"they\",\"excl\",\"bio\",\"work\",\"leisure\",\"number\",\"shehe\"]\n",
    "liwc3 = [\"we\",\"inhib\",\"certain\",\"money\",\"pronoun\",\"filler\",\"present\",\"social\",\"family\",\"swear\",\"nonfl\"]\n",
    "liwc4 = [\"posemo\",\"future\",\"hear\",\"achieve\",\"space\",\"anx\",\"sad\",\"article\",\"past\",\"negemo\",\"tentat\",\"quant\"]\n",
    "liwc5 = [\"motion\",\"insight\",\"relativ\",\"sexual\",\"feel\",\"anger\",\"friend\",\"relig\",\"home\",\"humans\",\"assent\"]\n",
    "liwc6 = [\"verb\",\"auxverb\",\"death\",\"time\",\"discrep\",\"see\",\"health\"]"
   ]
  },
  {
   "cell_type": "code",
   "execution_count": 13,
   "metadata": {
    "collapsed": true
   },
   "outputs": [],
   "source": [
    "df_liwc1 = df[liwc1]\n",
    "df_liwc2 = df[liwc2]\n",
    "df_liwc3 = df[liwc3]\n",
    "df_liwc4 = df[liwc4]\n",
    "df_liwc5 = df[liwc5]\n",
    "df_liwc6 = df[liwc6]"
   ]
  },
  {
   "cell_type": "code",
   "execution_count": 15,
   "metadata": {
    "collapsed": true
   },
   "outputs": [],
   "source": [
    "df_liwc1.to_csv(\"../data/processed/survey_2018-01-23_jung-liwc-dt-jung_dummies-enriched_no-text_liwc1.csv\", sep=\";\")\n",
    "df_liwc2.to_csv(\"../data/processed/survey_2018-01-23_jung-liwc-dt-jung_dummies-enriched_no-text_liwc2.csv\", sep=\";\")\n",
    "df_liwc3.to_csv(\"../data/processed/survey_2018-01-23_jung-liwc-dt-jung_dummies-enriched_no-text_liwc3.csv\", sep=\";\")\n",
    "df_liwc4.to_csv(\"../data/processed/survey_2018-01-23_jung-liwc-dt-jung_dummies-enriched_no-text_liwc4.csv\", sep=\";\")\n",
    "df_liwc5.to_csv(\"../data/processed/survey_2018-01-23_jung-liwc-dt-jung_dummies-enriched_no-text_liwc5.csv\", sep=\";\")\n",
    "df_liwc6.to_csv(\"../data/processed/survey_2018-01-23_jung-liwc-dt-jung_dummies-enriched_no-text_liwc6.csv\", sep=\";\")"
   ]
  },
  {
   "cell_type": "markdown",
   "metadata": {},
   "source": [
    "### DataFrames with only Actual, uClassify and separated Actual functions etc"
   ]
  },
  {
   "cell_type": "code",
   "execution_count": 16,
   "metadata": {
    "collapsed": false
   },
   "outputs": [
    {
     "data": {
      "text/plain": [
       "Index(['url', 'typealyzer', 'actual', 'e', 's', 't', 'sntf_s', 'sntf_n',\n",
       "       'sntf_t', 'sntf_f', 'date', 'text', 'domains', 'domain', 'func', 'att',\n",
       "       'funcatt', 'sexual', 'i', 'filler', 'you', 'preps', 'friend', 'affect',\n",
       "       'conj', 'see', 'adverb', 'humans', 'relig', 'ingest', 'percept', 'incl',\n",
       "       'body', 'they', 'excl', 'bio', 'work', 'leisure', 'number', 'ipron',\n",
       "       'shehe', 'we', 'inhib', 'certain', 'money', 'pronoun', 'present',\n",
       "       'social', 'family', 'swear', 'cogmech', 'nonfl', 'posemo', 'future',\n",
       "       'hear', 'achieve', 'space', 'anx', 'sad', 'article', 'past', 'negemo',\n",
       "       'tentat', 'quant', 'motion', 'insight', 'relativ', 'funct', 'feel',\n",
       "       'anger', 'negate', 'ppron', 'home', 'cause', 'assent', 'verb',\n",
       "       'auxverb', 'death', 'time', 'discrep', 'health', 'datetime'],\n",
       "      dtype='object')"
      ]
     },
     "execution_count": 16,
     "metadata": {},
     "output_type": "execute_result"
    }
   ],
   "source": [
    "df.columns"
   ]
  },
  {
   "cell_type": "code",
   "execution_count": 17,
   "metadata": {
    "collapsed": true
   },
   "outputs": [],
   "source": [
    "cats = [\"actual\",\"e\",\"s\",\"t\",\"sntf_s\",\"sntf_n\",\"sntf_t\",\"sntf_f\",\"func\",\"att\",\"funcatt\"]\n",
    "jung_df = df[cats]\n",
    "jung_df.to_csv(\"../data/processed/survey_2018-01-23_jung-liwc-dt-jung_dummies-enriched_no-text_jung_actual_uclassify.csv\", sep=\";\")"
   ]
  },
  {
   "cell_type": "markdown",
   "metadata": {
    "collapsed": true
   },
   "source": [
    "### DataFrame with text plus Jungian sub-features"
   ]
  },
  {
   "cell_type": "code",
   "execution_count": 4,
   "metadata": {
    "collapsed": false
   },
   "outputs": [],
   "source": [
    "cols = [\"att\",\"func\",\"funcatt\",\"text\"]\n",
    "text_df = df[cols]\n",
    "text_df.to_csv(\"../data/processed/survey_2018-01-23_text-functions-attitudes.csv\", sep=\";\")"
   ]
  },
  {
   "cell_type": "code",
   "execution_count": null,
   "metadata": {
    "collapsed": true
   },
   "outputs": [],
   "source": []
  }
 ],
 "metadata": {
  "kernelspec": {
   "display_name": "Python [conda env:anaconda3]",
   "language": "python",
   "name": "conda-env-anaconda3-py"
  },
  "language_info": {
   "codemirror_mode": {
    "name": "ipython",
    "version": 3
   },
   "file_extension": ".py",
   "mimetype": "text/x-python",
   "name": "python",
   "nbconvert_exporter": "python",
   "pygments_lexer": "ipython3",
   "version": "3.5.2"
  }
 },
 "nbformat": 4,
 "nbformat_minor": 1
}
