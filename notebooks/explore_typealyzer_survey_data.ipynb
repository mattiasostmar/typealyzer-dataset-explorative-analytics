{
 "cells": [
  {
   "cell_type": "code",
   "execution_count": 1,
   "metadata": {
    "collapsed": true
   },
   "outputs": [],
   "source": [
    "import pandas as pd\n",
    "%matplotlib inline"
   ]
  },
  {
   "cell_type": "code",
   "execution_count": 2,
   "metadata": {
    "collapsed": true
   },
   "outputs": [],
   "source": [
    "df = pd.read_pickle(\"../pickles/dataframe_survey_2018-01-23_jung-liwc-dt-enriched.pickle\")"
   ]
  },
  {
   "cell_type": "code",
   "execution_count": 5,
   "metadata": {},
   "outputs": [
    {
     "name": "stdout",
     "output_type": "stream",
     "text": [
      "<class 'pandas.core.frame.DataFrame'>\n",
      "RangeIndex: 27959 entries, 0 to 27958\n",
      "Data columns (total 17 columns):\n",
      "url           27959 non-null object\n",
      "typealyzer    27959 non-null object\n",
      "actual        27959 non-null object\n",
      "e             27959 non-null float64\n",
      "s             27959 non-null float64\n",
      "t             27959 non-null float64\n",
      "sntf_s        27959 non-null float64\n",
      "sntf_n        27959 non-null float64\n",
      "sntf_t        27959 non-null float64\n",
      "sntf_f        27959 non-null float64\n",
      "date          27959 non-null object\n",
      "text          27959 non-null object\n",
      "domains       27959 non-null object\n",
      "domain        27959 non-null object\n",
      "func          27298 non-null object\n",
      "att           27298 non-null object\n",
      "funcatt       23804 non-null object\n",
      "dtypes: float64(7), object(10)\n",
      "memory usage: 3.6+ MB\n"
     ]
    }
   ],
   "source": [
    "df.info()"
   ]
  },
  {
   "cell_type": "code",
   "execution_count": 23,
   "metadata": {},
   "outputs": [
    {
     "data": {
      "text/plain": [
       "INFP            4792\n",
       "INTJ            4699\n",
       "INFJ            4107\n",
       "INTP            3911\n",
       "ENFP            1564\n",
       "ISFP            1508\n",
       "ISFJ            1272\n",
       "ISTJ            1138\n",
       "ISTP            1122\n",
       "ENTP             989\n",
       "I don't know     661\n",
       "ENFJ             613\n",
       "ENTJ             461\n",
       "ESFP             451\n",
       "ESFJ             292\n",
       "ESTP             239\n",
       "ESTJ             140\n",
       "Name: actual, dtype: int64"
      ]
     },
     "execution_count": 23,
     "metadata": {},
     "output_type": "execute_result"
    }
   ],
   "source": [
    "df.actual.value_counts()"
   ]
  },
  {
   "cell_type": "code",
   "execution_count": 24,
   "metadata": {},
   "outputs": [
    {
     "data": {
      "text/plain": [
       "fi    6300\n",
       "ii    5312\n",
       "ti    5033\n",
       "ie    2553\n",
       "si    2410\n",
       "fe     905\n",
       "se     690\n",
       "te     601\n",
       "Name: funcatt, dtype: int64"
      ]
     },
     "execution_count": 24,
     "metadata": {},
     "output_type": "execute_result"
    }
   ],
   "source": [
    "df.funcatt.value_counts()"
   ]
  },
  {
   "cell_type": "code",
   "execution_count": 25,
   "metadata": {},
   "outputs": [
    {
     "data": {
      "text/plain": [
       "i    11359\n",
       "f     7205\n",
       "t     5634\n",
       "s     3100\n",
       "Name: func, dtype: int64"
      ]
     },
     "execution_count": 25,
     "metadata": {},
     "output_type": "execute_result"
    }
   ],
   "source": [
    "df.func.value_counts()"
   ]
  },
  {
   "cell_type": "code",
   "execution_count": 26,
   "metadata": {},
   "outputs": [
    {
     "data": {
      "text/plain": [
       "i    22549\n",
       "e     4749\n",
       "Name: att, dtype: int64"
      ]
     },
     "execution_count": 26,
     "metadata": {},
     "output_type": "execute_result"
    }
   ],
   "source": [
    "df.att.value_counts()"
   ]
  },
  {
   "cell_type": "markdown",
   "metadata": {},
   "source": [
    "# Time series analysis"
   ]
  },
  {
   "cell_type": "code",
   "execution_count": 32,
   "metadata": {},
   "outputs": [
    {
     "data": {
      "text/plain": [
       "<matplotlib.axes._subplots.AxesSubplot at 0x10dc8ac50>"
      ]
     },
     "execution_count": 32,
     "metadata": {},
     "output_type": "execute_result"
    },
    {
     "data": {
      "image/png": "[encoded data removed]",
      "text/plain": [
       "<matplotlib.figure.Figure at 0x10dc8beb8>"
      ]
     },
     "metadata": {},
     "output_type": "display_data"
    }
   ],
   "source": [
    "df.datetime.hist()"
   ]
  },
  {
   "cell_type": "code",
   "execution_count": 36,
   "metadata": {},
   "outputs": [
    {
     "data": {
      "text/plain": [
       "Timestamp('2012-08-28 08:08:11')"
      ]
     },
     "execution_count": 36,
     "metadata": {},
     "output_type": "execute_result"
    }
   ],
   "source": [
    "df.datetime.min()"
   ]
  },
  {
   "cell_type": "code",
   "execution_count": 37,
   "metadata": {},
   "outputs": [
    {
     "data": {
      "text/plain": [
       "Timestamp('2018-01-22 05:01:47')"
      ]
     },
     "execution_count": 37,
     "metadata": {},
     "output_type": "execute_result"
    }
   ],
   "source": [
    "df.datetime.max()"
   ]
  },
  {
   "cell_type": "code",
   "execution_count": 42,
   "metadata": {
    "collapsed": true
   },
   "outputs": [],
   "source": [
    "tsdf = pd.read_pickle(\"../pickles/dataframe_survey_2018-01-23_jung-liwc-dt-enriched.pickle\")"
   ]
  },
  {
   "cell_type": "code",
   "execution_count": 33,
   "metadata": {
    "collapsed": true
   },
   "outputs": [],
   "source": [
    "tsdf = df.set_index(\"datetime\")"
   ]
  },
  {
   "cell_type": "code",
   "execution_count": 35,
   "metadata": {},
   "outputs": [
    {
     "data": {
      "text/html": [
       "<div>\n",
       "<style scoped>\n",
       "    .dataframe tbody tr th:only-of-type {\n",
       "        vertical-align: middle;\n",
       "    }\n",
       "\n",
       "    .dataframe tbody tr th {\n",
       "        vertical-align: top;\n",
       "    }\n",
       "\n",
       "    .dataframe thead th {\n",
       "        text-align: right;\n",
       "    }\n",
       "</style>\n",
       "<table border=\"1\" class=\"dataframe\">\n",
       "  <thead>\n",
       "    <tr style=\"text-align: right;\">\n",
       "      <th></th>\n",
       "      <th>url</th>\n",
       "      <th>typealyzer</th>\n",
       "      <th>actual</th>\n",
       "      <th>e</th>\n",
       "      <th>s</th>\n",
       "      <th>t</th>\n",
       "      <th>sntf_s</th>\n",
       "      <th>sntf_n</th>\n",
       "      <th>sntf_t</th>\n",
       "      <th>sntf_f</th>\n",
       "      <th>...</th>\n",
       "      <th>funct</th>\n",
       "      <th>you</th>\n",
       "      <th>shehe</th>\n",
       "      <th>sad</th>\n",
       "      <th>death</th>\n",
       "      <th>nonfl</th>\n",
       "      <th>swear</th>\n",
       "      <th>we</th>\n",
       "      <th>ppron</th>\n",
       "      <th>filler</th>\n",
       "    </tr>\n",
       "    <tr>\n",
       "      <th>datetime</th>\n",
       "      <th></th>\n",
       "      <th></th>\n",
       "      <th></th>\n",
       "      <th></th>\n",
       "      <th></th>\n",
       "      <th></th>\n",
       "      <th></th>\n",
       "      <th></th>\n",
       "      <th></th>\n",
       "      <th></th>\n",
       "      <th></th>\n",
       "      <th></th>\n",
       "      <th></th>\n",
       "      <th></th>\n",
       "      <th></th>\n",
       "      <th></th>\n",
       "      <th></th>\n",
       "      <th></th>\n",
       "      <th></th>\n",
       "      <th></th>\n",
       "      <th></th>\n",
       "    </tr>\n",
       "  </thead>\n",
       "  <tbody>\n",
       "    <tr>\n",
       "      <th>2012-08-28 09:08:55</th>\n",
       "      <td>http://jonkagstrom.com</td>\n",
       "      <td>ISTP</td>\n",
       "      <td>INFJ</td>\n",
       "      <td>0.420758</td>\n",
       "      <td>0.651605</td>\n",
       "      <td>0.652214</td>\n",
       "      <td>0.512359</td>\n",
       "      <td>0.274234</td>\n",
       "      <td>0.134025</td>\n",
       "      <td>0.079382</td>\n",
       "      <td>...</td>\n",
       "      <td>1.490707</td>\n",
       "      <td>0.01175</td>\n",
       "      <td>0.095706</td>\n",
       "      <td>0.003632</td>\n",
       "      <td>0.005982</td>\n",
       "      <td>0.059816</td>\n",
       "      <td>0.013031</td>\n",
       "      <td>0.033753</td>\n",
       "      <td>0.449263</td>\n",
       "      <td>0.005554</td>\n",
       "    </tr>\n",
       "  </tbody>\n",
       "</table>\n",
       "<p>1 rows × 81 columns</p>\n",
       "</div>"
      ],
      "text/plain": [
       "                                        url typealyzer actual         e  \\\n",
       "datetime                                                                  \n",
       "2012-08-28 09:08:55  http://jonkagstrom.com       ISTP   INFJ  0.420758   \n",
       "\n",
       "                            s         t    sntf_s    sntf_n    sntf_t  \\\n",
       "datetime                                                                \n",
       "2012-08-28 09:08:55  0.651605  0.652214  0.512359  0.274234  0.134025   \n",
       "\n",
       "                       sntf_f    ...        funct      you     shehe  \\\n",
       "datetime                         ...                                   \n",
       "2012-08-28 09:08:55  0.079382    ...     1.490707  0.01175  0.095706   \n",
       "\n",
       "                          sad     death     nonfl     swear        we  \\\n",
       "datetime                                                                \n",
       "2012-08-28 09:08:55  0.003632  0.005982  0.059816  0.013031  0.033753   \n",
       "\n",
       "                        ppron    filler  \n",
       "datetime                                 \n",
       "2012-08-28 09:08:55  0.449263  0.005554  \n",
       "\n",
       "[1 rows x 81 columns]"
      ]
     },
     "execution_count": 35,
     "metadata": {},
     "output_type": "execute_result"
    }
   ],
   "source": [
    "tsdf.head(1)"
   ]
  },
  {
   "cell_type": "code",
   "execution_count": 3,
   "metadata": {},
   "outputs": [
    {
     "data": {
      "text/plain": [
       "Index(['url', 'typealyzer', 'actual', 'e', 's', 't', 'sntf_s', 'sntf_n',\n",
       "       'sntf_t', 'sntf_f', 'date', 'text', 'domains', 'domain', 'func', 'att',\n",
       "       'funcatt', 'past', 'inhib', 'home', 'certain', 'body', 'cause', 'see',\n",
       "       'adverb', 'money', 'future', 'family', 'sexual', 'friend', 'preps',\n",
       "       'humans', 'percept', 'pronoun', 'negate', 'anger', 'they', 'relativ',\n",
       "       'ingest', 'bio', 'discrep', 'quant', 'leisure', 'tentat', 'i', 'negemo',\n",
       "       'achieve', 'assent', 'present', 'incl', 'health', 'social', 'cogmech',\n",
       "       'posemo', 'auxverb', 'anx', 'feel', 'ipron', 'time', 'insight', 'excl',\n",
       "       'conj', 'number', 'affect', 'article', 'space', 'relig', 'hear',\n",
       "       'motion', 'work', 'verb', 'funct', 'you', 'shehe', 'sad', 'death',\n",
       "       'nonfl', 'swear', 'we', 'ppron', 'filler', 'datetime'],\n",
       "      dtype='object')"
      ]
     },
     "execution_count": 3,
     "metadata": {},
     "output_type": "execute_result"
    }
   ],
   "source": [
    "df.columns"
   ]
  },
  {
   "cell_type": "code",
   "execution_count": 12,
   "metadata": {},
   "outputs": [
    {
     "data": {
      "text/plain": [
       "<matplotlib.axes._subplots.AxesSubplot at 0x121025320>"
      ]
     },
     "execution_count": 12,
     "metadata": {},
     "output_type": "execute_result"
    },
    {
     "data": {
      "image/png": "[encoded data removed]",
      "text/plain": [
       "<matplotlib.figure.Figure at 0x120e94278>"
      ]
     },
     "metadata": {},
     "output_type": "display_data"
    }
   ],
   "source": [
    "df.e.plot.hist()"
   ]
  },
  {
   "cell_type": "code",
   "execution_count": 5,
   "metadata": {},
   "outputs": [
    {
     "data": {
      "text/plain": [
       "<matplotlib.axes._subplots.AxesSubplot at 0x11f964940>"
      ]
     },
     "execution_count": 5,
     "metadata": {},
     "output_type": "execute_result"
    },
    {
     "data": {
      "image/png": "[encoded data removed]",
      "text/plain": [
       "<matplotlib.figure.Figure at 0x11f946710>"
      ]
     },
     "metadata": {},
     "output_type": "display_data"
    }
   ],
   "source": [
    "df.i.plot.hist()"
   ]
  },
  {
   "cell_type": "code",
   "execution_count": 6,
   "metadata": {},
   "outputs": [
    {
     "data": {
      "text/plain": [
       "<matplotlib.axes._subplots.AxesSubplot at 0x1102bea58>"
      ]
     },
     "execution_count": 6,
     "metadata": {},
     "output_type": "execute_result"
    },
    {
     "data": {
      "image/png": "[encoded data removed]",
      "text/plain": [
       "<matplotlib.figure.Figure at 0x11f964c50>"
      ]
     },
     "metadata": {},
     "output_type": "display_data"
    }
   ],
   "source": [
    "df.t.plot.hist()"
   ]
  },
  {
   "cell_type": "code",
   "execution_count": 7,
   "metadata": {},
   "outputs": [
    {
     "data": {
      "text/plain": [
       "<matplotlib.axes._subplots.AxesSubplot at 0x120794ac8>"
      ]
     },
     "execution_count": 7,
     "metadata": {},
     "output_type": "execute_result"
    },
    {
     "data": {
      "image/png": "[encoded data removed]",
      "text/plain": [
       "<matplotlib.figure.Figure at 0x1207b38d0>"
      ]
     },
     "metadata": {},
     "output_type": "display_data"
    }
   ],
   "source": [
    "df.sntf_f.plot.hist()"
   ]
  },
  {
   "cell_type": "code",
   "execution_count": 8,
   "metadata": {},
   "outputs": [
    {
     "data": {
      "text/plain": [
       "<matplotlib.axes._subplots.AxesSubplot at 0x120a2e2e8>"
      ]
     },
     "execution_count": 8,
     "metadata": {},
     "output_type": "execute_result"
    },
    {
     "data": {
      "image/png": "[encoded data removed]",
      "text/plain": [
       "<matplotlib.figure.Figure at 0x120b802e8>"
      ]
     },
     "metadata": {},
     "output_type": "display_data"
    }
   ],
   "source": [
    "df.sntf_t.plot.hist()"
   ]
  },
  {
   "cell_type": "code",
   "execution_count": 9,
   "metadata": {},
   "outputs": [
    {
     "data": {
      "text/plain": [
       "<matplotlib.axes._subplots.AxesSubplot at 0x120bb1fd0>"
      ]
     },
     "execution_count": 9,
     "metadata": {},
     "output_type": "execute_result"
    },
    {
     "data": {
      "image/png": "[encoded data removed]",
      "text/plain": [
       "<matplotlib.figure.Figure at 0x120ba3f28>"
      ]
     },
     "metadata": {},
     "output_type": "display_data"
    }
   ],
   "source": [
    "df.sntf_n.plot.hist()"
   ]
  },
  {
   "cell_type": "code",
   "execution_count": 10,
   "metadata": {},
   "outputs": [
    {
     "data": {
      "text/plain": [
       "<matplotlib.axes._subplots.AxesSubplot at 0x120cf2be0>"
      ]
     },
     "execution_count": 10,
     "metadata": {},
     "output_type": "execute_result"
    },
    {
     "data": {
      "image/png": "[encoded data removed]",
      "text/plain": [
       "<matplotlib.figure.Figure at 0x120bb4080>"
      ]
     },
     "metadata": {},
     "output_type": "display_data"
    }
   ],
   "source": [
    "df.sntf_s.plot.hist()"
   ]
  }
 ],
 "metadata": {
  "anaconda-cloud": {},
  "kernelspec": {
   "display_name": "Python 3",
   "language": "python",
   "name": "python3"
  },
  "language_info": {
   "codemirror_mode": {
    "name": "ipython",
    "version": 3
   },
   "file_extension": ".py",
   "mimetype": "text/x-python",
   "name": "python",
   "nbconvert_exporter": "python",
   "pygments_lexer": "ipython3",
   "version": "3.5.4"
  }
 },
 "nbformat": 4,
 "nbformat_minor": 1
}
