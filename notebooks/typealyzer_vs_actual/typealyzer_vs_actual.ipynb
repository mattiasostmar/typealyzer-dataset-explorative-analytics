{
  "nbformat": 4,
  "nbformat_minor": 0,
  "metadata": {
    "colab": {
      "name": "typealyzer-survey.ipynb",
      "version": "0.3.2",
      "views": {},
      "default_view": {},
      "provenance": [],
      "collapsed_sections": [],
      "toc_visible": true
    },
    "kernelspec": {
      "name": "python3",
      "display_name": "Python 3"
    }
  },
  "cells": [
    {
      "metadata": {
        "id": "g-hkZdaPJXFY",
        "colab_type": "code",
        "colab": {
          "autoexec": {
            "startup": false,
            "wait_interval": 0
          }
        }
      },
      "cell_type": "code",
      "source": [
        "!pip install --upgrade -q gspread"
      ],
      "execution_count": 0,
      "outputs": []
    },
    {
      "metadata": {
        "id": "2akbYCE-7RyQ",
        "colab_type": "code",
        "colab": {
          "autoexec": {
            "startup": false,
            "wait_interval": 0
          },
          "output_extras": [
            {
              "item_id": 1
            }
          ],
          "base_uri": "https://localhost:8080/",
          "height": 17
        },
        "outputId": "349777ee-7adc-4601-ba39-d42e04b83383",
        "executionInfo": {
          "status": "ok",
          "timestamp": 1518118522682,
          "user_tz": -60,
          "elapsed": 830,
          "user": {
            "displayName": "Mattias Östmar",
            "photoUrl": "//lh3.googleusercontent.com/-WhlMym1n1NY/AAAAAAAAAAI/AAAAAAAAB68/d7lE6jPBz5I/s50-c-k-no/photo.jpg",
            "userId": "112654890592145322605"
          }
        }
      },
      "cell_type": "code",
      "source": [
        "from google.colab import files\n",
        "import pandas as pd\n",
        "from google.colab import auth\n",
        "import getpass\n",
        "\n",
        "import seaborn as sns\n",
        "from sklearn.metrics import classification_report\n",
        "from sklearn.metrics import confusion_matrix\n",
        "from plotly.offline import download_plotlyjs, init_notebook_mode, iplot\n",
        "from plotly.graph_objs import *\n",
        "\n",
        "init_notebook_mode(connected=True)\n",
        "%matplotlib inline"
      ],
      "execution_count": 29,
      "outputs": [
        {
          "output_type": "display_data",
          "data": {
            "text/html": [
              "<script>requirejs.config({paths: { 'plotly': ['https://cdn.plot.ly/plotly-latest.min']},});if(!window.Plotly) {{require(['plotly'],function(plotly) {window.Plotly=plotly;});}}</script>"
            ],
            "text/plain": [
              "<IPython.core.display.HTML object>"
            ]
          },
          "metadata": {
            "tags": []
          }
        }
      ]
    },
    {
      "metadata": {
        "id": "HIlHPJzGPAil",
        "colab_type": "code",
        "colab": {
          "autoexec": {
            "startup": false,
            "wait_interval": 0
          }
        }
      },
      "cell_type": "code",
      "source": [
        "# setup connection to google drive\n",
        "!apt-get install -y -qq software-properties-common python-software-properties module-init-tools\n",
        "!add-apt-repository -y ppa:alessandro-strada/ppa 2>&1 > /dev/null\n",
        "!apt-get update -qq 2>&1 > /dev/null\n",
        "!apt-get -y install -qq google-drive-ocamlfuse fuse"
      ],
      "execution_count": 0,
      "outputs": []
    },
    {
      "metadata": {
        "id": "BcuZrzt_wvTo",
        "colab_type": "text"
      },
      "cell_type": "markdown",
      "source": [
        "# Connect a Google Drive folder \n",
        "named *memetics* to this Colab instance for data storage. Pew. Not completely easy-peasy."
      ]
    },
    {
      "metadata": {
        "id": "-vybMZ6ynhI3",
        "colab_type": "code",
        "colab": {
          "autoexec": {
            "startup": false,
            "wait_interval": 0
          },
          "output_extras": [
            {
              "item_id": 2
            }
          ],
          "base_uri": "https://localhost:8080/",
          "height": 51
        },
        "outputId": "db0d6872-a1a2-4967-d557-36b1cf31b619",
        "executionInfo": {
          "status": "ok",
          "timestamp": 1518113622914,
          "user_tz": -60,
          "elapsed": 6099,
          "user": {
            "displayName": "Mattias Östmar",
            "photoUrl": "//lh3.googleusercontent.com/-WhlMym1n1NY/AAAAAAAAAAI/AAAAAAAAB68/d7lE6jPBz5I/s50-c-k-no/photo.jpg",
            "userId": "112654890592145322605"
          }
        }
      },
      "cell_type": "code",
      "source": [
        "!mkdir -p drive\n",
        "!google-drive-ocamlfuse drive\n",
        "!mkdir drive/memetics\n",
        "!ls drive/memetics"
      ],
      "execution_count": 9,
      "outputs": [
        {
          "output_type": "stream",
          "text": [
            "fuse: mountpoint is not empty\n",
            "fuse: if you are sure this is safe, use the 'nonempty' mount option\n"
          ],
          "name": "stdout"
        }
      ]
    },
    {
      "metadata": {
        "id": "dG6SlfhBmasK",
        "colab_type": "code",
        "colab": {
          "autoexec": {
            "startup": false,
            "wait_interval": 0
          },
          "output_extras": [
            {
              "item_id": 4
            }
          ],
          "base_uri": "https://localhost:8080/",
          "height": 105
        },
        "outputId": "46525cdc-8cb7-4542-b9e2-45f14733d4e7",
        "executionInfo": {
          "status": "ok",
          "timestamp": 1518113482203,
          "user_tz": -60,
          "elapsed": 19933,
          "user": {
            "displayName": "Mattias Östmar",
            "photoUrl": "//lh3.googleusercontent.com/-WhlMym1n1NY/AAAAAAAAAAI/AAAAAAAAB68/d7lE6jPBz5I/s50-c-k-no/photo.jpg",
            "userId": "112654890592145322605"
          }
        }
      },
      "cell_type": "code",
      "source": [
        "auth.authenticate_user()\n",
        "from oauth2client.client import GoogleCredentials\n",
        "creds = GoogleCredentials.get_application_default()\n",
        "\n",
        "\n",
        "!google-drive-ocamlfuse -headless -id={creds.client_id} -secret={creds.client_secret} < /dev/null 2>&1 | grep URL\n",
        "vcode = getpass.getpass()\n",
        "!echo {vcode} | google-drive-ocamlfuse -headless -id={creds.client_id} -secret={creds.client_secret}"
      ],
      "execution_count": 7,
      "outputs": [
        {
          "output_type": "stream",
          "text": [
            "Please, open the following URL in a web browser: https://accounts.google.com/o/oauth2/auth?client_id=32555940559.apps.googleusercontent.com&redirect_uri=urn%3Aietf%3Awg%3Aoauth%3A2.0%3Aoob&scope=https%3A%2F%2Fwww.googleapis.com%2Fauth%2Fdrive&response_type=code&access_type=offline&approval_prompt=force\r\n",
            "··········\n",
            "Please, open the following URL in a web browser: https://accounts.google.com/o/oauth2/auth?client_id=32555940559.apps.googleusercontent.com&redirect_uri=urn%3Aietf%3Awg%3Aoauth%3A2.0%3Aoob&scope=https%3A%2F%2Fwww.googleapis.com%2Fauth%2Fdrive&response_type=code&access_type=offline&approval_prompt=force\n",
            "Please enter the verification code: Access token retrieved correctly.\n"
          ],
          "name": "stdout"
        }
      ]
    },
    {
      "metadata": {
        "id": "6v6box4UvgEl",
        "colab_type": "code",
        "colab": {
          "autoexec": {
            "startup": false,
            "wait_interval": 0
          },
          "output_extras": [
            {
              "item_id": 1
            }
          ],
          "base_uri": "https://localhost:8080/",
          "height": 187
        },
        "outputId": "5afaa602-470c-45bb-aa99-4d7601f92a56",
        "executionInfo": {
          "status": "ok",
          "timestamp": 1518115624105,
          "user_tz": -60,
          "elapsed": 3013,
          "user": {
            "displayName": "Mattias Östmar",
            "photoUrl": "//lh3.googleusercontent.com/-WhlMym1n1NY/AAAAAAAAAAI/AAAAAAAAB68/d7lE6jPBz5I/s50-c-k-no/photo.jpg",
            "userId": "112654890592145322605"
          }
        }
      },
      "cell_type": "code",
      "source": [
        "!ls drive/memetics"
      ],
      "execution_count": 10,
      "outputs": [
        {
          "output_type": "stream",
          "text": [
            "dataframe_survey_2018-01-23_jung-liwc-dt-jung_dummies-enriched.pickle\r\n",
            "survey_2018-01-23_jung-liwc-dt-jung_dummies-enriched_no-text.csv\r\n",
            "survey_2018-01-23_jung-liwc-dt-jung_dummies-enriched_no-text.csv.ods\r\n",
            "survey_2018-01-23_jung-liwc-dt-jung_dummies-enriched_no-text_jung_actual_uclassify.ods\r\n",
            "survey_2018-01-23_jung-liwc-dt-jung_dummies-enriched_no-text_liwc1.csv\r\n",
            "survey_2018-01-23_jung-liwc-dt-jung_dummies-enriched_no-text_liwc2.csv\r\n",
            "survey_2018-01-23_jung-liwc-dt-jung_dummies-enriched_no-text_liwc3.csv\r\n",
            "survey_2018-01-23_jung-liwc-dt-jung_dummies-enriched_no-text_liwc4.csv\r\n",
            "survey_2018-01-23_jung-liwc-dt-jung_dummies-enriched_no-text_liwc5.csv\r\n",
            "survey_2018-01-23_jung-liwc-dt-jung_dummies-enriched_no-text_liwc6.csv\r\n"
          ],
          "name": "stdout"
        }
      ]
    },
    {
      "metadata": {
        "id": "Kt-OXyvS7sY3",
        "colab_type": "text"
      },
      "cell_type": "markdown",
      "source": [
        "# Load survey-data to Pandas DataFrame\n",
        "\n",
        "Cleaned and enriched version of the Typealyzer survey data with text column removed to save memory.\n",
        "\n",
        "All pre-processing steps are documented in Notebooks in the private [Gitlab repo Jung-Meyers-tagger](https://gitlab.com/memetic-science/Jung-Myers-tagger).\n",
        "\n",
        "The file is 37,4 MB and saved in Gitlab repo under */data/processed/*.\n",
        "\n",
        "Files are converted to byte-strings when uploaded to Google Colaboratory and needs to be encoded with .encode(\"utf-8\") to be manipulated.\n"
      ]
    },
    {
      "metadata": {
        "id": "raNTSBOSLJYe",
        "colab_type": "code",
        "colab": {
          "autoexec": {
            "startup": false,
            "wait_interval": 0
          },
          "output_extras": [
            {
              "item_id": 1
            },
            {
              "item_id": 2
            }
          ],
          "base_uri": "https://localhost:8080/",
          "height": 508
        },
        "outputId": "4885b048-1306-4411-edd9-8371f5e26c30",
        "executionInfo": {
          "status": "ok",
          "timestamp": 1518118078251,
          "user_tz": -60,
          "elapsed": 3872,
          "user": {
            "displayName": "Mattias Östmar",
            "photoUrl": "//lh3.googleusercontent.com/-WhlMym1n1NY/AAAAAAAAAAI/AAAAAAAAB68/d7lE6jPBz5I/s50-c-k-no/photo.jpg",
            "userId": "112654890592145322605"
          }
        }
      },
      "cell_type": "code",
      "source": [
        "df = pd.read_csv(\"drive/memetics/survey_2018-01-23_jung-liwc-dt-jung_dummies-enriched.csv\", sep=\";\")\n",
        "df.head()"
      ],
      "execution_count": 26,
      "outputs": [
        {
          "output_type": "stream",
          "text": [
            "/usr/local/lib/python3.6/dist-packages/IPython/core/interactiveshell.py:2718: DtypeWarning:\n",
            "\n",
            "Columns (17) have mixed types. Specify dtype option on import or set low_memory=False.\n",
            "\n"
          ],
          "name": "stderr"
        },
        {
          "output_type": "execute_result",
          "data": {
            "text/html": [
              "<div>\n",
              "<style scoped>\n",
              "    .dataframe tbody tr th:only-of-type {\n",
              "        vertical-align: middle;\n",
              "    }\n",
              "\n",
              "    .dataframe tbody tr th {\n",
              "        vertical-align: top;\n",
              "    }\n",
              "\n",
              "    .dataframe thead th {\n",
              "        text-align: right;\n",
              "    }\n",
              "</style>\n",
              "<table border=\"1\" class=\"dataframe\">\n",
              "  <thead>\n",
              "    <tr style=\"text-align: right;\">\n",
              "      <th></th>\n",
              "      <th>Unnamed: 0</th>\n",
              "      <th>url</th>\n",
              "      <th>typealyzer</th>\n",
              "      <th>actual</th>\n",
              "      <th>e</th>\n",
              "      <th>s</th>\n",
              "      <th>t</th>\n",
              "      <th>sntf_s</th>\n",
              "      <th>sntf_n</th>\n",
              "      <th>sntf_t</th>\n",
              "      <th>...</th>\n",
              "      <th>home</th>\n",
              "      <th>cause</th>\n",
              "      <th>assent</th>\n",
              "      <th>verb</th>\n",
              "      <th>auxverb</th>\n",
              "      <th>death</th>\n",
              "      <th>time</th>\n",
              "      <th>discrep</th>\n",
              "      <th>health</th>\n",
              "      <th>datetime</th>\n",
              "    </tr>\n",
              "  </thead>\n",
              "  <tbody>\n",
              "    <tr>\n",
              "      <th>0</th>\n",
              "      <td>0</td>\n",
              "      <td>http://jonkagstrom.com</td>\n",
              "      <td>ISTP</td>\n",
              "      <td>INFJ</td>\n",
              "      <td>0.420758</td>\n",
              "      <td>0.651605</td>\n",
              "      <td>0.652214</td>\n",
              "      <td>0.512359</td>\n",
              "      <td>0.274234</td>\n",
              "      <td>0.134025</td>\n",
              "      <td>...</td>\n",
              "      <td>0.004700</td>\n",
              "      <td>0.017518</td>\n",
              "      <td>0.043580</td>\n",
              "      <td>0.190558</td>\n",
              "      <td>0.125614</td>\n",
              "      <td>0.005982</td>\n",
              "      <td>0.065157</td>\n",
              "      <td>0.012177</td>\n",
              "      <td>0.024140</td>\n",
              "      <td>2012-08-28 09:08:55</td>\n",
              "    </tr>\n",
              "    <tr>\n",
              "      <th>1</th>\n",
              "      <td>1</td>\n",
              "      <td>http://adropofcolour.tumblr.com</td>\n",
              "      <td>ISFP</td>\n",
              "      <td>INFJ</td>\n",
              "      <td>0.291281</td>\n",
              "      <td>0.787844</td>\n",
              "      <td>0.460961</td>\n",
              "      <td>0.663515</td>\n",
              "      <td>0.178565</td>\n",
              "      <td>0.069282</td>\n",
              "      <td>...</td>\n",
              "      <td>0.005663</td>\n",
              "      <td>0.023783</td>\n",
              "      <td>0.031710</td>\n",
              "      <td>0.180068</td>\n",
              "      <td>0.108720</td>\n",
              "      <td>0.004530</td>\n",
              "      <td>0.069083</td>\n",
              "      <td>0.016988</td>\n",
              "      <td>0.011325</td>\n",
              "      <td>2012-08-28 08:08:11</td>\n",
              "    </tr>\n",
              "    <tr>\n",
              "      <th>2</th>\n",
              "      <td>2</td>\n",
              "      <td>http://godheadcomplex.tumblr.com</td>\n",
              "      <td>ESFP</td>\n",
              "      <td>INFP</td>\n",
              "      <td>0.883579</td>\n",
              "      <td>0.951693</td>\n",
              "      <td>0.238407</td>\n",
              "      <td>0.855921</td>\n",
              "      <td>0.046931</td>\n",
              "      <td>0.021850</td>\n",
              "      <td>...</td>\n",
              "      <td>0.019704</td>\n",
              "      <td>0.004926</td>\n",
              "      <td>0.039409</td>\n",
              "      <td>0.206897</td>\n",
              "      <td>0.147783</td>\n",
              "      <td>0.014778</td>\n",
              "      <td>0.024631</td>\n",
              "      <td>0.014778</td>\n",
              "      <td>0.014778</td>\n",
              "      <td>2012-08-28 09:08:34</td>\n",
              "    </tr>\n",
              "    <tr>\n",
              "      <th>3</th>\n",
              "      <td>3</td>\n",
              "      <td>http://chaotikaeon2.tumblr.com</td>\n",
              "      <td>INTJ</td>\n",
              "      <td>INTP</td>\n",
              "      <td>0.332444</td>\n",
              "      <td>0.357863</td>\n",
              "      <td>0.591322</td>\n",
              "      <td>0.147668</td>\n",
              "      <td>0.252326</td>\n",
              "      <td>0.339831</td>\n",
              "      <td>...</td>\n",
              "      <td>0.000000</td>\n",
              "      <td>0.014011</td>\n",
              "      <td>0.028021</td>\n",
              "      <td>0.162872</td>\n",
              "      <td>0.084063</td>\n",
              "      <td>0.005254</td>\n",
              "      <td>0.049037</td>\n",
              "      <td>0.015762</td>\n",
              "      <td>0.028021</td>\n",
              "      <td>2012-08-28 10:08:31</td>\n",
              "    </tr>\n",
              "    <tr>\n",
              "      <th>4</th>\n",
              "      <td>4</td>\n",
              "      <td>http://codeode.com</td>\n",
              "      <td>ESTJ</td>\n",
              "      <td>I don't know</td>\n",
              "      <td>0.556231</td>\n",
              "      <td>0.881763</td>\n",
              "      <td>0.969999</td>\n",
              "      <td>0.449375</td>\n",
              "      <td>0.065664</td>\n",
              "      <td>0.466337</td>\n",
              "      <td>...</td>\n",
              "      <td>0.006375</td>\n",
              "      <td>0.021514</td>\n",
              "      <td>0.042231</td>\n",
              "      <td>0.182470</td>\n",
              "      <td>0.123506</td>\n",
              "      <td>0.008765</td>\n",
              "      <td>0.070120</td>\n",
              "      <td>0.009562</td>\n",
              "      <td>0.027888</td>\n",
              "      <td>2012-08-29 12:08:35</td>\n",
              "    </tr>\n",
              "  </tbody>\n",
              "</table>\n",
              "<p>5 rows × 83 columns</p>\n",
              "</div>"
            ],
            "text/plain": [
              "   Unnamed: 0                               url typealyzer        actual  \\\n",
              "0           0            http://jonkagstrom.com       ISTP          INFJ   \n",
              "1           1   http://adropofcolour.tumblr.com       ISFP          INFJ   \n",
              "2           2  http://godheadcomplex.tumblr.com       ESFP          INFP   \n",
              "3           3    http://chaotikaeon2.tumblr.com       INTJ          INTP   \n",
              "4           4                http://codeode.com       ESTJ  I don't know   \n",
              "\n",
              "          e         s         t    sntf_s    sntf_n    sntf_t  \\\n",
              "0  0.420758  0.651605  0.652214  0.512359  0.274234  0.134025   \n",
              "1  0.291281  0.787844  0.460961  0.663515  0.178565  0.069282   \n",
              "2  0.883579  0.951693  0.238407  0.855921  0.046931  0.021850   \n",
              "3  0.332444  0.357863  0.591322  0.147668  0.252326  0.339831   \n",
              "4  0.556231  0.881763  0.969999  0.449375  0.065664  0.466337   \n",
              "\n",
              "          ...               home     cause    assent      verb   auxverb  \\\n",
              "0         ...           0.004700  0.017518  0.043580  0.190558  0.125614   \n",
              "1         ...           0.005663  0.023783  0.031710  0.180068  0.108720   \n",
              "2         ...           0.019704  0.004926  0.039409  0.206897  0.147783   \n",
              "3         ...           0.000000  0.014011  0.028021  0.162872  0.084063   \n",
              "4         ...           0.006375  0.021514  0.042231  0.182470  0.123506   \n",
              "\n",
              "      death      time   discrep    health             datetime  \n",
              "0  0.005982  0.065157  0.012177  0.024140  2012-08-28 09:08:55  \n",
              "1  0.004530  0.069083  0.016988  0.011325  2012-08-28 08:08:11  \n",
              "2  0.014778  0.024631  0.014778  0.014778  2012-08-28 09:08:34  \n",
              "3  0.005254  0.049037  0.015762  0.028021  2012-08-28 10:08:31  \n",
              "4  0.008765  0.070120  0.009562  0.027888  2012-08-29 12:08:35  \n",
              "\n",
              "[5 rows x 83 columns]"
            ]
          },
          "metadata": {
            "tags": []
          },
          "execution_count": 26
        }
      ]
    },
    {
      "metadata": {
        "id": "oDjjJykYQDF1",
        "colab_type": "code",
        "colab": {
          "autoexec": {
            "startup": false,
            "wait_interval": 0
          },
          "output_extras": [
            {
              "item_id": 1
            }
          ],
          "base_uri": "https://localhost:8080/",
          "height": 1513
        },
        "outputId": "1846c756-b171-4dc3-a4c7-e496c23e7d41",
        "executionInfo": {
          "status": "ok",
          "timestamp": 1518117179032,
          "user_tz": -60,
          "elapsed": 547,
          "user": {
            "displayName": "Mattias Östmar",
            "photoUrl": "//lh3.googleusercontent.com/-WhlMym1n1NY/AAAAAAAAAAI/AAAAAAAAB68/d7lE6jPBz5I/s50-c-k-no/photo.jpg",
            "userId": "112654890592145322605"
          }
        }
      },
      "cell_type": "code",
      "source": [
        "df.info()"
      ],
      "execution_count": 14,
      "outputs": [
        {
          "output_type": "stream",
          "text": [
            "<class 'pandas.core.frame.DataFrame'>\n",
            "RangeIndex: 27959 entries, 0 to 27958\n",
            "Data columns (total 83 columns):\n",
            "Unnamed: 0    27959 non-null int64\n",
            "url           27959 non-null object\n",
            "typealyzer    27959 non-null object\n",
            "actual        27959 non-null object\n",
            "e             27959 non-null float64\n",
            "s             27959 non-null float64\n",
            "t             27959 non-null float64\n",
            "sntf_s        27959 non-null float64\n",
            "sntf_n        27959 non-null float64\n",
            "sntf_t        27959 non-null float64\n",
            "sntf_f        27959 non-null float64\n",
            "date          27959 non-null object\n",
            "text          27959 non-null object\n",
            "domains       27959 non-null object\n",
            "domain        27959 non-null object\n",
            "func          27298 non-null object\n",
            "att           27298 non-null object\n",
            "funcatt       23804 non-null object\n",
            "sexual        27959 non-null float64\n",
            "i             27959 non-null float64\n",
            "filler        27959 non-null float64\n",
            "you           27959 non-null float64\n",
            "preps         27959 non-null float64\n",
            "friend        27959 non-null float64\n",
            "affect        27959 non-null float64\n",
            "conj          27959 non-null float64\n",
            "see           27959 non-null float64\n",
            "adverb        27959 non-null float64\n",
            "humans        27959 non-null float64\n",
            "relig         27959 non-null float64\n",
            "ingest        27959 non-null float64\n",
            "percept       27959 non-null float64\n",
            "incl          27959 non-null float64\n",
            "body          27959 non-null float64\n",
            "they          27959 non-null float64\n",
            "excl          27959 non-null float64\n",
            "bio           27959 non-null float64\n",
            "work          27959 non-null float64\n",
            "leisure       27959 non-null float64\n",
            "number        27959 non-null float64\n",
            "ipron         27959 non-null float64\n",
            "shehe         27959 non-null float64\n",
            "we            27959 non-null float64\n",
            "inhib         27959 non-null float64\n",
            "certain       27959 non-null float64\n",
            "money         27959 non-null float64\n",
            "pronoun       27959 non-null float64\n",
            "present       27959 non-null float64\n",
            "social        27959 non-null float64\n",
            "family        27959 non-null float64\n",
            "swear         27959 non-null float64\n",
            "cogmech       27959 non-null float64\n",
            "nonfl         27959 non-null float64\n",
            "posemo        27959 non-null float64\n",
            "future        27959 non-null float64\n",
            "hear          27959 non-null float64\n",
            "achieve       27959 non-null float64\n",
            "space         27959 non-null float64\n",
            "anx           27959 non-null float64\n",
            "sad           27959 non-null float64\n",
            "article       27959 non-null float64\n",
            "past          27959 non-null float64\n",
            "negemo        27959 non-null float64\n",
            "tentat        27959 non-null float64\n",
            "quant         27959 non-null float64\n",
            "motion        27959 non-null float64\n",
            "insight       27959 non-null float64\n",
            "relativ       27959 non-null float64\n",
            "funct         27959 non-null float64\n",
            "feel          27959 non-null float64\n",
            "anger         27959 non-null float64\n",
            "negate        27959 non-null float64\n",
            "ppron         27959 non-null float64\n",
            "home          27959 non-null float64\n",
            "cause         27959 non-null float64\n",
            "assent        27959 non-null float64\n",
            "verb          27959 non-null float64\n",
            "auxverb       27959 non-null float64\n",
            "death         27959 non-null float64\n",
            "time          27959 non-null float64\n",
            "discrep       27959 non-null float64\n",
            "health        27959 non-null float64\n",
            "datetime      27959 non-null object\n",
            "dtypes: float64(71), int64(1), object(11)\n",
            "memory usage: 17.7+ MB\n"
          ],
          "name": "stdout"
        }
      ]
    },
    {
      "metadata": {
        "id": "83yJjcTU46Zu",
        "colab_type": "text"
      },
      "cell_type": "markdown",
      "source": [
        "## Scikit-learn classification report\n",
        "See [documentation](http://scikit-learn.org/stable/modules/model_evaluation.html#classification-report)"
      ]
    },
    {
      "metadata": {
        "id": "VneKUi2t4R_L",
        "colab_type": "code",
        "colab": {
          "autoexec": {
            "startup": false,
            "wait_interval": 0
          },
          "output_extras": [
            {
              "item_id": 1
            },
            {
              "item_id": 2
            }
          ],
          "base_uri": "https://localhost:8080/",
          "height": 459
        },
        "outputId": "44760e4c-63f3-4e2c-f4bb-a7ac14f0db61",
        "executionInfo": {
          "status": "ok",
          "timestamp": 1518118308998,
          "user_tz": -60,
          "elapsed": 535,
          "user": {
            "displayName": "Mattias Östmar",
            "photoUrl": "//lh3.googleusercontent.com/-WhlMym1n1NY/AAAAAAAAAAI/AAAAAAAAB68/d7lE6jPBz5I/s50-c-k-no/photo.jpg",
            "userId": "112654890592145322605"
          }
        }
      },
      "cell_type": "code",
      "source": [
        "cr = classification_report(df['actual'], df['typealyzer'])\n",
        "print(cr)"
      ],
      "execution_count": 27,
      "outputs": [
        {
          "output_type": "stream",
          "text": [
            "              precision    recall  f1-score   support\n",
            "\n",
            "        ENFJ       0.04      0.01      0.02       613\n",
            "        ENFP       0.06      0.01      0.02      1564\n",
            "        ENTJ       0.04      0.02      0.03       461\n",
            "        ENTP       0.07      0.03      0.05       989\n",
            "        ESFJ       0.02      0.10      0.03       292\n",
            "        ESFP       0.02      0.35      0.04       451\n",
            "        ESTJ       0.02      0.06      0.03       140\n",
            "        ESTP       0.01      0.21      0.03       239\n",
            "I don't know       0.00      0.00      0.00       661\n",
            "        INFJ       0.19      0.01      0.01      4107\n",
            "        INFP       0.22      0.03      0.05      4792\n",
            "        INTJ       0.30      0.05      0.09      4699\n",
            "        INTP       0.20      0.10      0.13      3911\n",
            "        ISFJ       0.05      0.03      0.04      1272\n",
            "        ISFP       0.07      0.22      0.11      1508\n",
            "        ISTJ       0.05      0.05      0.05      1138\n",
            "        ISTP       0.05      0.21      0.08      1122\n",
            "\n",
            " avg / total       0.16      0.06      0.06     27959\n",
            "\n"
          ],
          "name": "stdout"
        },
        {
          "output_type": "stream",
          "text": [
            "/usr/local/lib/python3.6/dist-packages/sklearn/metrics/classification.py:1135: UndefinedMetricWarning:\n",
            "\n",
            "Precision and F-score are ill-defined and being set to 0.0 in labels with no predicted samples.\n",
            "\n"
          ],
          "name": "stderr"
        }
      ]
    },
    {
      "metadata": {
        "id": "wBuQdgyC57F-",
        "colab_type": "text"
      },
      "cell_type": "markdown",
      "source": [
        "The result is bad precision and recall values.\n",
        "\n",
        "## Any imbalance between predicted and actual types? "
      ]
    },
    {
      "metadata": {
        "id": "-00Yio9K4iok",
        "colab_type": "code",
        "colab": {
          "autoexec": {
            "startup": false,
            "wait_interval": 0
          },
          "output_extras": [
            {
              "item_id": 1
            }
          ],
          "base_uri": "https://localhost:8080/",
          "height": 542
        },
        "outputId": "7c17b47e-039a-4c5a-fc5a-383966874f0e",
        "executionInfo": {
          "status": "ok",
          "timestamp": 1518118531906,
          "user_tz": -60,
          "elapsed": 567,
          "user": {
            "displayName": "Mattias Östmar",
            "photoUrl": "//lh3.googleusercontent.com/-WhlMym1n1NY/AAAAAAAAAAI/AAAAAAAAB68/d7lE6jPBz5I/s50-c-k-no/photo.jpg",
            "userId": "112654890592145322605"
          }
        }
      },
      "cell_type": "code",
      "source": [
        "actual = df['actual'].value_counts()\n",
        "predicted = df['typealyzer'].value_counts()\n",
        "\n",
        "data = [Bar(x = actual.index.values, y = actual.values, name=\"Actual\"),\n",
        "       Bar(x = predicted.index.values, y = predicted.values, name=\"Typealyzer\")]\n",
        "iplot(data)"
      ],
      "execution_count": 30,
      "outputs": [
        {
          "output_type": "display_data",
          "data": {
            "text/html": [
              "<div id=\"929b6b96-3903-4385-a418-76974b45f7f6\" style=\"height: 525px; width: 100%;\" class=\"plotly-graph-div\"></div><script type=\"text/javascript\">require([\"plotly\"], function(Plotly) { window.PLOTLYENV=window.PLOTLYENV || {};window.PLOTLYENV.BASE_URL=\"https://plot.ly\";Plotly.newPlot(\"929b6b96-3903-4385-a418-76974b45f7f6\", [{\"type\": \"bar\", \"x\": [\"INFP\", \"INTJ\", \"INFJ\", \"INTP\", \"ENFP\", \"ISFP\", \"ISFJ\", \"ISTJ\", \"ISTP\", \"ENTP\", \"I don't know\", \"ENFJ\", \"ENTJ\", \"ESFP\", \"ESFJ\", \"ESTP\", \"ESTJ\"], \"y\": [4792, 4699, 4107, 3911, 1564, 1508, 1272, 1138, 1122, 989, 661, 613, 461, 451, 292, 239, 140], \"name\": \"Actual\"}, {\"type\": \"bar\", \"x\": [\"ESFP\", \"ISTP\", \"ISFP\", \"ESTP\", \"INTP\", \"ESFJ\", \"ISTJ\", \"INTJ\", \"ISFJ\", \"INFP\", \"ENTP\", \"ESTJ\", \"ENFP\", \"ENTJ\", \"ENFJ\", \"INFJ\"], \"y\": [6889, 4682, 4457, 3530, 1864, 1457, 951, 825, 776, 656, 488, 456, 357, 261, 171, 139], \"name\": \"Typealyzer\"}], {}, {\"showLink\": true, \"linkText\": \"Export to plot.ly\"})});</script>"
            ],
            "text/plain": [
              "<IPython.core.display.HTML object>"
            ]
          },
          "metadata": {
            "tags": []
          }
        }
      ]
    },
    {
      "metadata": {
        "id": "chmDYG3u16RK",
        "colab_type": "code",
        "colab": {
          "autoexec": {
            "startup": false,
            "wait_interval": 0
          }
        }
      },
      "cell_type": "code",
      "source": [
        "df"
      ],
      "execution_count": 0,
      "outputs": []
    },
    {
      "metadata": {
        "id": "v7a3PeUMQW2S",
        "colab_type": "code",
        "colab": {
          "autoexec": {
            "startup": false,
            "wait_interval": 0
          },
          "output_extras": [
            {
              "item_id": 1
            }
          ],
          "base_uri": "https://localhost:8080/",
          "height": 748
        },
        "outputId": "56dea8d0-cf44-4337-f89e-d7108f170787",
        "executionInfo": {
          "status": "ok",
          "timestamp": 1518117264565,
          "user_tz": -60,
          "elapsed": 1420,
          "user": {
            "displayName": "Mattias Östmar",
            "photoUrl": "//lh3.googleusercontent.com/-WhlMym1n1NY/AAAAAAAAAAI/AAAAAAAAB68/d7lE6jPBz5I/s50-c-k-no/photo.jpg",
            "userId": "112654890592145322605"
          }
        }
      },
      "cell_type": "code",
      "source": [
        "!cat /proc/meminfo"
      ],
      "execution_count": 16,
      "outputs": [
        {
          "output_type": "stream",
          "text": [
            "MemTotal:       13341892 kB\r\n",
            "MemFree:         1156064 kB\r\n",
            "MemAvailable:   12147196 kB\r\n",
            "Buffers:          143680 kB\r\n",
            "Cached:         10525300 kB\r\n",
            "SwapCached:            0 kB\r\n",
            "Active:          2406484 kB\r\n",
            "Inactive:        9109636 kB\r\n",
            "Active(anon):     847464 kB\r\n",
            "Inactive(anon):      328 kB\r\n",
            "Active(file):    1559020 kB\r\n",
            "Inactive(file):  9109308 kB\r\n",
            "Unevictable:           0 kB\r\n",
            "Mlocked:               0 kB\r\n",
            "SwapTotal:             0 kB\r\n",
            "SwapFree:              0 kB\r\n",
            "Dirty:              2928 kB\r\n",
            "Writeback:             0 kB\r\n",
            "AnonPages:        847176 kB\r\n",
            "Mapped:           168948 kB\r\n",
            "Shmem:               668 kB\r\n",
            "Slab:             601580 kB\r\n",
            "SReclaimable:     576220 kB\r\n",
            "SUnreclaim:        25360 kB\r\n",
            "KernelStack:        3136 kB\r\n",
            "PageTables:         6044 kB\r\n",
            "NFS_Unstable:          0 kB\r\n",
            "Bounce:                0 kB\r\n",
            "WritebackTmp:          0 kB\r\n",
            "CommitLimit:     6670944 kB\r\n",
            "Committed_AS:    1907732 kB\r\n",
            "VmallocTotal:   34359738367 kB\r\n",
            "VmallocUsed:           0 kB\r\n",
            "VmallocChunk:          0 kB\r\n",
            "AnonHugePages:         0 kB\r\n",
            "HugePages_Total:       0\r\n",
            "HugePages_Free:        0\r\n",
            "HugePages_Rsvd:        0\r\n",
            "HugePages_Surp:        0\r\n",
            "Hugepagesize:       2048 kB\r\n",
            "DirectMap4k:       61388 kB\r\n",
            "DirectMap2M:     4132864 kB\r\n",
            "DirectMap1G:    11534336 kB\r\n"
          ],
          "name": "stdout"
        }
      ]
    },
    {
      "metadata": {
        "id": "GuGYOw0K1xaf",
        "colab_type": "code",
        "colab": {
          "autoexec": {
            "startup": false,
            "wait_interval": 0
          }
        }
      },
      "cell_type": "code",
      "source": [
        ""
      ],
      "execution_count": 0,
      "outputs": []
    }
  ]
}